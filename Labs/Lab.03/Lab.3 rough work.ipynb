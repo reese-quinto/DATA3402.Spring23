{
 "cells": [
  {
   "cell_type": "markdown",
   "id": "5603a4db",
   "metadata": {},
   "source": [
    "1. Write a \"counter\" class that can be incremented up to a specified maximum value, will print an error if an attempt is made to increment beyond that value, and allows reseting the counter. "
   ]
  },
  {
   "cell_type": "code",
   "execution_count": 15,
   "id": "62d5795c",
   "metadata": {},
   "outputs": [],
   "source": [
    "class Counter:\n",
    "    def __init__(self, max_value):\n",
    "        self.max_value = max_value\n",
    "        self.count = 0\n",
    "\n",
    "    def increment(self):\n",
    "        if self.count + 1 > self.max_value:\n",
    "            print(\"Error: Counter cannot be incremented past {self.max_value}\")\n",
    "        else:\n",
    "            self.count += 1\n",
    "            #print(self.count)\n",
    "\n",
    "    def reset(self):\n",
    "        self.count = 0"
   ]
  },
  {
   "cell_type": "code",
   "execution_count": 5,
   "id": "f232118d",
   "metadata": {},
   "outputs": [
    {
     "name": "stdout",
     "output_type": "stream",
     "text": [
      "<__main__.Counter object at 0x7f0b3fac2d40>\n"
     ]
    }
   ],
   "source": [
    "test_counter = Counter(5)\n",
    "print(test_counter)"
   ]
  },
  {
   "cell_type": "code",
   "execution_count": 11,
   "id": "50ed98f3",
   "metadata": {},
   "outputs": [],
   "source": [
    "test_counter.reset()\n",
    "test_counter.increment()\n",
    "test_counter.increment()\n",
    "test_counter.increment()\n",
    "test_counter.increment()\n",
    "test_counter.increment()"
   ]
  },
  {
   "cell_type": "code",
   "execution_count": 12,
   "id": "8eff120d",
   "metadata": {},
   "outputs": [
    {
     "name": "stdout",
     "output_type": "stream",
     "text": [
      "Error: Counter cannot exceed 5\n"
     ]
    }
   ],
   "source": [
    "test_counter.increment()"
   ]
  },
  {
   "cell_type": "code",
   "execution_count": 13,
   "id": "49e4a590",
   "metadata": {},
   "outputs": [
    {
     "data": {
      "text/plain": [
       "5"
      ]
     },
     "execution_count": 13,
     "metadata": {},
     "output_type": "execute_result"
    }
   ],
   "source": [
    "test_counter.count"
   ]
  },
  {
   "cell_type": "code",
   "execution_count": 16,
   "id": "d3456585",
   "metadata": {},
   "outputs": [
    {
     "data": {
      "text/plain": [
       "0"
      ]
     },
     "execution_count": 16,
     "metadata": {},
     "output_type": "execute_result"
    }
   ],
   "source": [
    "test_counter.reset()\n",
    "test_counter.count"
   ]
  },
  {
   "cell_type": "code",
   "execution_count": 17,
   "id": "d381656d",
   "metadata": {},
   "outputs": [
    {
     "data": {
      "text/plain": [
       "0"
      ]
     },
     "execution_count": 17,
     "metadata": {},
     "output_type": "execute_result"
    }
   ],
   "source": [
    "test_counter.count"
   ]
  },
  {
   "cell_type": "markdown",
   "id": "bd747450",
   "metadata": {},
   "source": [
    "3. Implement a class to represent a rectangle, holding the length, width, and $x$ and $y$ coordinates of a corner of the object. Implement functions that compute the area and perimeter of the rectangle. Make all data members private and privide accessors to retrieve values of data members. "
   ]
  },
  {
   "cell_type": "code",
   "execution_count": 27,
   "id": "64607d2d",
   "metadata": {},
   "outputs": [],
   "source": [
    "class Rectangle:\n",
    "    def __init__(self,length,width,x,y):\n",
    "        self.__length = length\n",
    "        self.__width = width\n",
    "        self.__x = x\n",
    "        self.__y = y\n",
    "        \n",
    "    def get_length(self):\n",
    "        return self.__length\n",
    "    \n",
    "    def get_width(self):\n",
    "        return self.__width\n",
    "    \n",
    "    def get_x(self):\n",
    "        return self.__x\n",
    "    \n",
    "    def get_y(self):\n",
    "        return self.__y\n",
    "    \n",
    "    def area(self):\n",
    "        return self.__length*self.__width\n",
    "    \n",
    "    def perimeter(self):\n",
    "        return 2*(self.__length + self.__width)"
   ]
  },
  {
   "cell_type": "code",
   "execution_count": 28,
   "id": "fbe88740",
   "metadata": {},
   "outputs": [
    {
     "name": "stdout",
     "output_type": "stream",
     "text": [
      "5 = length\n",
      "7 = width\n",
      "0 = x coord\n",
      "0 = y coord\n",
      "35 = Area\n",
      "24 = Perimeter\n"
     ]
    }
   ],
   "source": [
    "test_rectangle = Rectangle(5,7,0,0)\n",
    "print(test_rectangle.get_length(), \"= length\")\n",
    "print(test_rectangle.get_width(), \"= width\")\n",
    "print(test_rectangle.get_x(), \"= x coord\")\n",
    "print(test_rectangle.get_y(), \"= y coord\")\n",
    "print(test_rectangle.area(), '= Area')\n",
    "print(test_rectangle.perimeter(),\"= Perimeter\")"
   ]
  },
  {
   "cell_type": "code",
   "execution_count": 29,
   "id": "8313d6bd",
   "metadata": {},
   "outputs": [
    {
     "name": "stdout",
     "output_type": "stream",
     "text": [
      "0\n",
      "1\n",
      "2\n",
      "3\n"
     ]
    }
   ],
   "source": [
    "for i in range(4):\n",
    "    print(i)"
   ]
  },
  {
   "cell_type": "code",
   "execution_count": 30,
   "id": "1685ced7",
   "metadata": {},
   "outputs": [
    {
     "name": "stdout",
     "output_type": "stream",
     "text": [
      "[0]\n",
      "[0, 1]\n",
      "[0, 1, 2]\n",
      "[0, 1, 2]\n"
     ]
    }
   ],
   "source": [
    "lst = []\n",
    "for i in range(3):\n",
    "    lst.append(i)\n",
    "    print(lst)\n",
    "print(lst)"
   ]
  },
  {
   "cell_type": "code",
   "execution_count": 41,
   "id": "e812c8c8",
   "metadata": {},
   "outputs": [],
   "source": [
    "import math\n"
   ]
  },
  {
   "cell_type": "code",
   "execution_count": 50,
   "id": "9cb907a2",
   "metadata": {},
   "outputs": [],
   "source": [
    "class Shape:\n",
    "    def area(self):\n",
    "        pass\n",
    "    def perimeter(self):\n",
    "        pass\n",
    "    def is_inside(self,x,y):\n",
    "        pass\n",
    "    def perimeter_points(self):\n",
    "        pass\n",
    "    def is_overlap(self,other):\n",
    "        self_pts = self.perimeter_points()\n",
    "        other_pts = other.perimeter_points()\n",
    "        for i in range(len(other_pts)):\n",
    "            if self.is_inside(other_pts[i][0],other_pts[i][1]):\n",
    "                return True\n",
    "        for i in range(len(self_pts)):\n",
    "            if other.is_inside(self_pts[i][0],self_pts[i][1]):\n",
    "                return True\n",
    "        return False\n",
    "\n",
    "class Rectangle(Shape):\n",
    "    def __init__(self,length,width,x,y):\n",
    "        self.__length = length\n",
    "        self.__width = width\n",
    "        self.__x = x\n",
    "        self.__y = y\n",
    "    def get_length(self):\n",
    "        return self.__length\n",
    "    def get_width(self):\n",
    "        return self.__width\n",
    "    def get_corner(self):\n",
    "        return (self.__x,self.__y)\n",
    "    def area(self):\n",
    "        return self.__length*self.__width\n",
    "    def perimeter(self):\n",
    "        return 2*(self.__length + self.__width)\n",
    "    def is_inside(self,x,y):\n",
    "        if (x > self.__x) and (x < (self.__x+self.__length)):\n",
    "            if (y > self.__y) and (y < (self.__y+self.__width)):\n",
    "                return True\n",
    "        else:\n",
    "            return False\n",
    "    def perimeter_points(self):\n",
    "        dx = (abs(self.__x-self.__length))/4\n",
    "        dy = (abs(self.__y-self.__width))/4\n",
    "        point_list = []\n",
    "        #bottom side\n",
    "        for i in range(4):\n",
    "            point_list.append((self.__x+i*dx,self.__y))\n",
    "        #far side\n",
    "        for i in range(4):\n",
    "            point_list.append((self.__x+self.__length,self.__y+i*dy))\n",
    "        #top side\n",
    "        for i in range(4):\n",
    "            point_list.append((self.__x+(i+1)*dx,self.__y+self.__width))\n",
    "        #near side\n",
    "        for i in range(4):\n",
    "            point_list.append((self.__x,self.__y+(i+1)*dy))\n",
    "        return point_list\n",
    "    \n",
    "class Circle(Shape):\n",
    "    def __init__(self,radius,x,y):\n",
    "        self.__radius = radius\n",
    "        self.__x = x\n",
    "        self.__y = y\n",
    "    def get_radius(self):\n",
    "        return self.__radius\n",
    "    def get_center(self):\n",
    "        return (self.__x,self.__y)\n",
    "    def area(self):\n",
    "        return (math.pi * self.__radius**2)\n",
    "    def perimeter(self):\n",
    "        return 2 * math.pi * self.__radius\n",
    "    def is_inside(self,x,y):\n",
    "        dist = math.sqrt((self.__x-x)**2 + (self.__y-y)**2)\n",
    "        if dist < self.__radius:\n",
    "            return True\n",
    "        else:\n",
    "            return False\n",
    "    def perimeter_points(self):\n",
    "        points_list = []\n",
    "        for i in range(16):\n",
    "            #establish an angle theta\n",
    "            theta = i*(2*math.pi/16)\n",
    "            #x coordinate\n",
    "            x = self.__x + self.__radius*math.cos(theta)\n",
    "            #y coordinate\n",
    "            y = self.__y + self.__radius*math.sin(theta)\n",
    "            #append with point i\n",
    "            points_list.append((x,y))\n",
    "        return points_list\n",
    "    \n",
    "class Canvas:\n",
    "    def __init__(self, width, height):\n",
    "        self.width = width\n",
    "        self.height = height\n",
    "        self.data = [[' '] * width for i in range(height)]\n",
    "\n",
    "    def set_pixel(self, row, col, char='*'):\n",
    "        self.data[row][col] = char\n",
    "\n",
    "    def get_pixel(self, row, col):\n",
    "        return self.data[row][col]\n",
    "    \n",
    "    def v_line(self, x, y, w, **kargs):\n",
    "        for i in range(x,x+w):\n",
    "            self.set_pixel(i,y, **kargs)\n",
    "\n",
    "    def h_line(self, x, y, h, **kargs):\n",
    "        for i in range(y,y+h):\n",
    "            self.set_pixel(x,i, **kargs)\n",
    "            \n",
    "    def line(self, x1, y1, x2, y2, **kargs):\n",
    "        slope = (y2-y1) / (x2-x1)\n",
    "        for y in range(y1,y2):\n",
    "            x= int(slope * y)\n",
    "            self.set_pixel(x,y, **kargs)\n",
    "            \n",
    "    def drawshape(self,Shape):\n",
    "        perimeter = Shape.perimeter_points()\n",
    "        for i in range(len(perimeter)):\n",
    "            self.set_pixel(int(perimeter[i][0]),int(perimeter[i][1]))\n",
    "            \n",
    "    def display(self):\n",
    "        print(\"\\n\".join([\"\".join(row) for row in self.data]))    "
   ]
  },
  {
   "cell_type": "code",
   "execution_count": 80,
   "id": "d83b6af1",
   "metadata": {
    "scrolled": false
   },
   "outputs": [
    {
     "name": "stdout",
     "output_type": "stream",
     "text": [
      "[(4.0, 4), (7.0, 4), (10.0, 4), (13.0, 4), (20, 4.0), (20, 11.0), (20, 18.0), (20, 25.0), (7.0, 36), (10.0, 36), (13.0, 36), (16.0, 36), (4, 11.0), (4, 18.0), (4, 25.0), (4, 32.0)]\n",
      "                                                                           \n",
      "                                                                           \n",
      "                                                                           \n",
      "                                                                           \n",
      "                                                                           \n",
      "                                                                           \n",
      "                                                                           \n",
      "                                                                           \n",
      "                                                                           \n",
      "                                                                           \n",
      "                *   *  *                                                   \n",
      "                                                                           \n",
      "            *              *                                               \n",
      "                                                                           \n",
      "                                                                           \n",
      "                                                                           \n",
      "          *                  *                                             \n",
      "                                                                           \n",
      "                                                                           \n",
      "          *                                                                \n",
      "                              *                                            \n",
      "                                                                           \n",
      "                                                                           \n",
      "          *                  *                                             \n",
      "                                                                           \n",
      "                                                                           \n",
      "                                                                           \n",
      "            *              *                                               \n",
      "                                                                           \n",
      "                *      *                                                   \n",
      "                    *                                                      \n",
      "                                                                           \n",
      "                                                                           \n",
      "                                                                           \n",
      "                                                                           \n",
      "                                                                           \n",
      "                                                                           \n",
      "                                                                           \n",
      "                                                                           \n",
      "                                                                           \n",
      "                                                                           \n",
      "                                                                           \n",
      "                                                                           \n",
      "                                                                           \n",
      "                                                                      +    \n"
     ]
    }
   ],
   "source": [
    "test_rectangle1 = Rectangle(16,32,4,4)\n",
    "circle1 = Circle(10,20,20)\n",
    "#rec1perim = test_rectangle1.perimeter_points()\n",
    "#print(rec1perim)\n",
    "canvas = Canvas(75,45)\n",
    "canvas.set_pixel(44,70,char='+')\n",
    "# canvas.set_pixel(49,0,char='+')\n",
    "# canvas.set_pixel(0,49,char='+')\n",
    "# canvas.set_pixel(49,49,char='+')\n",
    "perim = test_rectangle1.perimeter_points()\n",
    "circ = circle1.perimeter_points()\n",
    "print(perim)\n",
    "# for i in range(len(perim)):\n",
    "#     canvas.set_pixel(int(perim[i][0]),int(perim[i][1]))\n",
    "    \n",
    "for i in range(len(perim)):\n",
    "    canvas.set_pixel(int(circ[i][0]),int(circ[i][1]))\n",
    "#canvas.drawshape(test_rectangle1)\n",
    "canvas.display()"
   ]
  },
  {
   "cell_type": "code",
   "execution_count": null,
   "id": "ca8ecbb9",
   "metadata": {},
   "outputs": [],
   "source": []
  }
 ],
 "metadata": {
  "kernelspec": {
   "display_name": "Python 3 (ipykernel)",
   "language": "python",
   "name": "python3"
  },
  "language_info": {
   "codemirror_mode": {
    "name": "ipython",
    "version": 3
   },
   "file_extension": ".py",
   "mimetype": "text/x-python",
   "name": "python",
   "nbconvert_exporter": "python",
   "pygments_lexer": "ipython3",
   "version": "3.10.4"
  }
 },
 "nbformat": 4,
 "nbformat_minor": 5
}
