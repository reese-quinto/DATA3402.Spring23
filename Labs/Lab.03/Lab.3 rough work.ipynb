{
 "cells": [
  {
   "cell_type": "markdown",
   "id": "b2969eca",
   "metadata": {},
   "source": [
    "1. Write a \"counter\" class that can be incremented up to a specified maximum value, will print an error if an attempt is made to increment beyond that value, and allows reseting the counter. "
   ]
  },
  {
   "cell_type": "code",
   "execution_count": 15,
   "id": "42bee58c",
   "metadata": {},
   "outputs": [],
   "source": [
    "class Counter:\n",
    "    def __init__(self, max_value):\n",
    "        self.max_value = max_value\n",
    "        self.count = 0\n",
    "\n",
    "    def increment(self):\n",
    "        if self.count + 1 > self.max_value:\n",
    "            print(\"Error: Counter cannot be incremented past {self.max_value}\")\n",
    "        else:\n",
    "            self.count += 1\n",
    "            #print(self.count)\n",
    "\n",
    "    def reset(self):\n",
    "        self.count = 0"
   ]
  },
  {
   "cell_type": "code",
   "execution_count": 5,
   "id": "ded228b8",
   "metadata": {},
   "outputs": [
    {
     "name": "stdout",
     "output_type": "stream",
     "text": [
      "<__main__.Counter object at 0x7f0b3fac2d40>\n"
     ]
    }
   ],
   "source": [
    "test_counter = Counter(5)\n",
    "print(test_counter)"
   ]
  },
  {
   "cell_type": "code",
   "execution_count": 11,
   "id": "7522bc54",
   "metadata": {},
   "outputs": [],
   "source": [
    "test_counter.reset()\n",
    "test_counter.increment()\n",
    "test_counter.increment()\n",
    "test_counter.increment()\n",
    "test_counter.increment()\n",
    "test_counter.increment()"
   ]
  },
  {
   "cell_type": "code",
   "execution_count": 12,
   "id": "b696ec5c",
   "metadata": {},
   "outputs": [
    {
     "name": "stdout",
     "output_type": "stream",
     "text": [
      "Error: Counter cannot exceed 5\n"
     ]
    }
   ],
   "source": [
    "test_counter.increment()"
   ]
  },
  {
   "cell_type": "code",
   "execution_count": 13,
   "id": "9f9122f9",
   "metadata": {},
   "outputs": [
    {
     "data": {
      "text/plain": [
       "5"
      ]
     },
     "execution_count": 13,
     "metadata": {},
     "output_type": "execute_result"
    }
   ],
   "source": [
    "test_counter.count"
   ]
  },
  {
   "cell_type": "code",
   "execution_count": 16,
   "id": "35431132",
   "metadata": {},
   "outputs": [
    {
     "data": {
      "text/plain": [
       "0"
      ]
     },
     "execution_count": 16,
     "metadata": {},
     "output_type": "execute_result"
    }
   ],
   "source": [
    "test_counter.reset()\n",
    "test_counter.count"
   ]
  },
  {
   "cell_type": "code",
   "execution_count": 17,
   "id": "97e95f3b",
   "metadata": {},
   "outputs": [
    {
     "data": {
      "text/plain": [
       "0"
      ]
     },
     "execution_count": 17,
     "metadata": {},
     "output_type": "execute_result"
    }
   ],
   "source": [
    "test_counter.count"
   ]
  },
  {
   "cell_type": "markdown",
   "id": "a98d5bde",
   "metadata": {},
   "source": [
    "3. Implement a class to represent a rectangle, holding the length, width, and $x$ and $y$ coordinates of a corner of the object. Implement functions that compute the area and perimeter of the rectangle. Make all data members private and privide accessors to retrieve values of data members. "
   ]
  },
  {
   "cell_type": "code",
   "execution_count": 27,
   "id": "9eee7898",
   "metadata": {},
   "outputs": [],
   "source": [
    "class Rectangle:\n",
    "    def __init__(self,length,width,x,y):\n",
    "        self.__length = length\n",
    "        self.__width = width\n",
    "        self.__x = x\n",
    "        self.__y = y\n",
    "        \n",
    "    def get_length(self):\n",
    "        return self.__length\n",
    "    \n",
    "    def get_width(self):\n",
    "        return self.__width\n",
    "    \n",
    "    def get_x(self):\n",
    "        return self.__x\n",
    "    \n",
    "    def get_y(self):\n",
    "        return self.__y\n",
    "    \n",
    "    def area(self):\n",
    "        return self.__length*self.__width\n",
    "    \n",
    "    def perimeter(self):\n",
    "        return 2*(self.__length + self.__width)"
   ]
  },
  {
   "cell_type": "code",
   "execution_count": 28,
   "id": "b39786b8",
   "metadata": {},
   "outputs": [
    {
     "name": "stdout",
     "output_type": "stream",
     "text": [
      "5 = length\n",
      "7 = width\n",
      "0 = x coord\n",
      "0 = y coord\n",
      "35 = Area\n",
      "24 = Perimeter\n"
     ]
    }
   ],
   "source": [
    "test_rectangle = Rectangle(5,7,0,0)\n",
    "print(test_rectangle.get_length(), \"= length\")\n",
    "print(test_rectangle.get_width(), \"= width\")\n",
    "print(test_rectangle.get_x(), \"= x coord\")\n",
    "print(test_rectangle.get_y(), \"= y coord\")\n",
    "print(test_rectangle.area(), '= Area')\n",
    "print(test_rectangle.perimeter(),\"= Perimeter\")"
   ]
  },
  {
   "cell_type": "code",
   "execution_count": 29,
   "id": "4786870e",
   "metadata": {},
   "outputs": [
    {
     "name": "stdout",
     "output_type": "stream",
     "text": [
      "0\n",
      "1\n",
      "2\n",
      "3\n"
     ]
    }
   ],
   "source": [
    "for i in range(4):\n",
    "    print(i)"
   ]
  },
  {
   "cell_type": "code",
   "execution_count": 30,
   "id": "c25e348b",
   "metadata": {},
   "outputs": [
    {
     "name": "stdout",
     "output_type": "stream",
     "text": [
      "[0]\n",
      "[0, 1]\n",
      "[0, 1, 2]\n",
      "[0, 1, 2]\n"
     ]
    }
   ],
   "source": [
    "lst = []\n",
    "for i in range(3):\n",
    "    lst.append(i)\n",
    "    print(lst)\n",
    "print(lst)"
   ]
  },
  {
   "cell_type": "code",
   "execution_count": null,
   "id": "e96d704f",
   "metadata": {},
   "outputs": [],
   "source": []
  }
 ],
 "metadata": {
  "kernelspec": {
   "display_name": "Python 3 (ipykernel)",
   "language": "python",
   "name": "python3"
  },
  "language_info": {
   "codemirror_mode": {
    "name": "ipython",
    "version": 3
   },
   "file_extension": ".py",
   "mimetype": "text/x-python",
   "name": "python",
   "nbconvert_exporter": "python",
   "pygments_lexer": "ipython3",
   "version": "3.10.4"
  }
 },
 "nbformat": 4,
 "nbformat_minor": 5
}
