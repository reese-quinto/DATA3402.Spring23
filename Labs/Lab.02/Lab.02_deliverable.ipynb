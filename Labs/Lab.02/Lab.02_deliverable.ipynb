{
 "cells": [
  {
   "cell_type": "markdown",
   "metadata": {},
   "source": [
    "## Lab 2\n",
    "\n",
    "In this lab we will become familiar with distributions, histograms, and functional programming. Before that, lets submit your Quiz from last lecture.\n",
    "\n",
    "### Quiz Submission\n",
    "\n",
    "The instructions here aim to have our course repository be public (enabling things like the colab links), while student repositories are private. You should be familiar with git from the first semester of this course. I assume that you all have github accounts and have setup things to be able to [push to github using ssh](https://docs.github.com/en/github/authenticating-to-github/connecting-to-github-with-ssh). The instuctions here lead you to:\n",
    "\n",
    "1. Create a directory on your personal system where you will keep all course materials.\n",
    "1. Clone the [course repository](https://github.com/UTA-DataScience/DATA3402.Spring.2023).\n",
    "1. Create a new private repository for your solutions. \n",
    "1. Copy lab notebooks from course repository to your solutions repository.\n",
    "1. Commit / push your solutions.\n",
    "1. Grant access to course instructiors.\n",
    "\n",
    "Ideally, you should be able to do all of these steps yourself. Below are step by step instructions with examples (including example directory naming convention). Feel free to modify things as you see fit. The goal here to have a private repo where you can submit your solutions. \n",
    "\n",
    "1. Open a shell on your personal computer.\n",
    "1. If you have not done so already, create a new directory/folder where you will keep all course material to navigate to it. For example: `mkdir Data-3402` and `cd Data-3402`.\n",
    "1. Clone the course repository: `git clone https://github.com/UTA-DataScience/DATA3402.Spring.2023`.\n",
    "   1. Note that after the this clone, you simply need to navigate to this directory and do `git pull` to get updates (e.g. new labs).\n",
    "1. Make a new directory for your solutions and navigate to it: `mkdir DATA3402.Solutions.$USER` and `cd  DATA3402.Solutions.$USER`\n",
    "1. Make new directory for Labs and Lab 1: `mkdir Labs ; mkdir Labs/Labs.1`.\n",
    "1. Place your Quiz 1 solutions it this directory: `cp <path_to_solution> Labs/Labs.1 `\n",
    "   1. For Lab 1 and the future labs, just copy labs from the class repo, for example here: \n",
    "      * `mkdir Labs/Lab.2`\n",
    "      * `cp ../DATA3402.Spring.2023/Labs/Lab.2/Lab.2.ipynb Labs/Lab.2`\n",
    "1. Create a new git repository with same name are your directory above (i.e. `DATA3402.Solutions.$USER`). \n",
    "   * Navigate to your page on github.\n",
    "   * Use the \"+\" button to create a new repository.\n",
    "   * Make sure your repository is private.\n",
    "   * github will give you instructions on \"create a new repository on the command line\"\n",
    "1. After creating the repository, go to the repository settings tab, select \"Manage access\" on left, and press \"Invite a collaborator\" to invite course instructor (usernames `afarbin` and `anushka30`).\n",
    "1. To submit your labs, navigate to your private repo and \n",
    "   1. Make sure you have added the lab. For example: `git add Labs/Lab.1/Lab.1.ipynb`\n",
    "   1. Commit any changes: `git commit -a -m \"Lab 1 updates\"`\n",
    "   1. Push your changes: `git push`\n",
    "   1. Check on github that your solutions have been properly submitted.\n",
    "   \n",
    "   \n",
    "After submitting Quiz 1, continue work on lab 1, or start the remainder of this lab..."
   ]
  },
  {
   "cell_type": "markdown",
   "metadata": {},
   "source": [
    "### Uniform Distribution\n",
    "Lets start with generating some fake random data. You can get a random number between 0 and 1 using the python random module as follow:"
   ]
  },
  {
   "cell_type": "code",
   "execution_count": 1,
   "metadata": {},
   "outputs": [
    {
     "name": "stdout",
     "output_type": "stream",
     "text": [
      "The Value of x is 0.7962984887066955\n"
     ]
    }
   ],
   "source": [
    "import random\n",
    "x=random.random()\n",
    "print(\"The Value of x is\", x)"
   ]
  },
  {
   "cell_type": "markdown",
   "metadata": {},
   "source": [
    "Everytime you call random, you will get a new number.\n",
    "\n",
    "*Exercise 1:* Using random, write a function `generate_uniform(N, mymin, mymax)`, that returns a python list containing N random numbers between specified minimum and maximum value. Note that you may want to quickly work out on paper how to turn numbers between 0 and 1 to between other values. "
   ]
  },
  {
   "cell_type": "code",
   "execution_count": 2,
   "metadata": {},
   "outputs": [],
   "source": [
    "# Skeleton\n",
    "def generate_uniform(N,x_min,x_max):\n",
    "    out = []\n",
    "    ### BEGIN SOLUTION\n",
    "    randoms = [random.random() for _ in range(N)]\n",
    "    for i in range(len(randoms)):\n",
    "        out.append((x_max - x_min)*randoms[i]+x_min)\n",
    "    ### END SOLUTION\n",
    "    return out"
   ]
  },
  {
   "cell_type": "code",
   "execution_count": 6,
   "metadata": {},
   "outputs": [
    {
     "name": "stdout",
     "output_type": "stream",
     "text": [
      "Data Type: <class 'list'>\n",
      "Data Length: 1000\n",
      "Type of Data Contents: <class 'float'>\n",
      "Data Minimum: -9.995195700475513\n",
      "Data Maximum: 9.960673163143017\n"
     ]
    }
   ],
   "source": [
    "# Test your solution here\n",
    "data=generate_uniform(1000,-10,10)\n",
    "# print(data)\n",
    "print (\"Data Type:\", type(data))\n",
    "print (\"Data Length:\", len(data))\n",
    "if len(data)>0: \n",
    "    print (\"Type of Data Contents:\", type(data[0]))\n",
    "    print (\"Data Minimum:\", min(data))\n",
    "    print (\"Data Maximum:\", max(data))"
   ]
  },
  {
   "cell_type": "markdown",
   "metadata": {},
   "source": [
    "*Exercise 2a:* \n",
    "Write a function that computes the mean of values in a list. Recall the equation for the mean of a random variable $\\bf{x}$ computed on a data set of $n$ values $\\{ x_i \\} = \\{x_1, x_2, ..., x_n\\}$  is ${\\bf\\bar{x}} = \\frac{1}{n} \\sum_i^n x_i$."
   ]
  },
  {
   "cell_type": "code",
   "execution_count": 11,
   "metadata": {},
   "outputs": [],
   "source": [
    "# Skeleton\n",
    "def mean(Data):\n",
    "    m=0.\n",
    "    \n",
    "    ### BEGIN SOLUTION\n",
    "    n = len(Data)\n",
    "    total = sum(Data)\n",
    "    m = total/n\n",
    "    ### END SOLUTION\n",
    "    \n",
    "    return m"
   ]
  },
  {
   "cell_type": "code",
   "execution_count": 30,
   "metadata": {},
   "outputs": [
    {
     "name": "stdout",
     "output_type": "stream",
     "text": [
      "1000\n",
      "Mean of Data: -0.32482833979658354\n",
      "-0.32482833979658354\n"
     ]
    }
   ],
   "source": [
    "# Test your solution here\n",
    "print(len(data))\n",
    "print (\"Mean of Data:\", mean(data))\n",
    "print(sum(data)/len(data))"
   ]
  },
  {
   "cell_type": "markdown",
   "metadata": {},
   "source": [
    "*Exercise 2b:* \n",
    "Write a function that computes the variance of values in a list. Recall the equation for the variance of a random variable $\\bf{x}$ computed on a data set of $n$ values $\\{ x_i \\} = \\{x_1, x_2, ..., x_n\\}$  is ${\\bf\\langle x \\rangle} = \\frac{1}{n} \\sum_i^n (x_i - {\\bf\\bar{x}})$."
   ]
  },
  {
   "cell_type": "code",
   "execution_count": 17,
   "metadata": {},
   "outputs": [],
   "source": [
    "# Skeleton\n",
    "def variance(Data):\n",
    "    m=0.\n",
    "    \n",
    "    ### BEGIN SOLUTION\n",
    "    average = mean(Data)\n",
    "    n = len(Data)\n",
    "    total = 0\n",
    "    for i in range(n):\n",
    "        total = total + (data[i]-average)\n",
    "    m = total/n\n",
    "    ### END SOLUTION\n",
    "    \n",
    "    return m"
   ]
  },
  {
   "cell_type": "code",
   "execution_count": 18,
   "metadata": {},
   "outputs": [
    {
     "name": "stdout",
     "output_type": "stream",
     "text": [
      "Variance of Data: 2.646771690706373e-16\n"
     ]
    }
   ],
   "source": [
    "# Test your solution here\n",
    "print (\"Variance of Data:\", variance(data))"
   ]
  },
  {
   "cell_type": "code",
   "execution_count": 19,
   "metadata": {},
   "outputs": [
    {
     "data": {
      "text/plain": [
       "2.646771690706373e-16"
      ]
     },
     "execution_count": 19,
     "metadata": {},
     "output_type": "execute_result"
    }
   ],
   "source": [
    "import statistics\n",
    "variance(data)"
   ]
  },
  {
   "cell_type": "markdown",
   "metadata": {},
   "source": [
    "## Histogramming"
   ]
  },
  {
   "cell_type": "markdown",
   "metadata": {},
   "source": [
    "*Exercise 3:* Write a function that bins the data so that you can create a histogram. An example of how to implement histogramming is the following logic:\n",
    "\n",
    "* User inputs a list of values `x` and optionally `n_bins` which defaults to 10.\n",
    "* If not supplied, find the minimum and maximum (`x_min`,`x_max`) of the values in x.\n",
    "* Determine the bin size (`bin_size`) by dividing the range of the function by the number of bins.\n",
    "* Create an empty list of zeros of size `n_bins`, call it `hist`.\n",
    "* Loop over the values in `x`\n",
    "    * Loop over the values in `hist` with index `i`:\n",
    "        * If x is between `x_min+i*bin_size` and `x_min+(i+1)*bin_size`, increment `hist[i].` \n",
    "        * For efficiency, try to use continue to goto the next bin and data point.\n",
    "* Return `hist` and the list corresponding of the bin edges (i.e. of `x_min+i*bin_size`).    "
   ]
  },
  {
   "cell_type": "code",
   "execution_count": 35,
   "metadata": {},
   "outputs": [],
   "source": [
    "# Solution\n",
    "def histogram(x,n_bins=10,x_min=None,x_max=None):\n",
    "    ### BEGIN SOLUTION\n",
    "    x_min = min(x)\n",
    "    x_max = max(x)\n",
    "    bin_size = (x_max - x_min)/n_bins\n",
    "    hist = [0 for _ in range(n_bins)]\n",
    "#     print(x_min)\n",
    "#     print(x_max)\n",
    "#     print(bin_size)\n",
    "#     print(hist)\n",
    "    bin_edges = list()\n",
    "    for i in range(n_bins):\n",
    "        bin_edges.append(x_min+i*bin_size)\n",
    "    bin_edges.append(x_min+(i+1)*bin_size)\n",
    "    for i in range(len(hist)):\n",
    "        for _ in range(len(x)):\n",
    "            if (x[_]>=(x_min+i*bin_size)) and (x[_]<=(x_min+(i+1)*bin_size)):\n",
    "                hist[i]+=1\n",
    "#     print(hist)\n",
    "#     print(bin_edges)\n",
    "    #print(sum(hist))\n",
    "    # Fill in your solution here        \n",
    "    \n",
    "    ### END SOLUTION\n",
    "\n",
    "    return hist,bin_edges"
   ]
  },
  {
   "cell_type": "code",
   "execution_count": 36,
   "metadata": {},
   "outputs": [
    {
     "data": {
      "text/plain": [
       "([104, 103, 105, 111, 98, 104, 102, 88, 107, 78],\n",
       " [-9.995195700475513,\n",
       "  -7.99960881411366,\n",
       "  -6.004021927751807,\n",
       "  -4.008435041389953,\n",
       "  -2.0128481550281005,\n",
       "  -0.017261268666247886,\n",
       "  1.9783256176956066,\n",
       "  3.973912504057459,\n",
       "  5.969499390419312,\n",
       "  7.9650862767811645,\n",
       "  9.960673163143017])"
      ]
     },
     "execution_count": 36,
     "metadata": {},
     "output_type": "execute_result"
    }
   ],
   "source": [
    "histogram(data,10)"
   ]
  },
  {
   "cell_type": "code",
   "execution_count": 37,
   "metadata": {},
   "outputs": [
    {
     "name": "stdout",
     "output_type": "stream",
     "text": [
      "[19, 7, 12, 10, 11, 9, 14, 5, 7, 10, 13, 9, 10, 6, 12, 9, 11, 6, 15, 12, 11, 14, 15, 10, 8, 8, 3, 16, 8, 12, 8, 14, 9, 12, 6, 7, 18, 14, 11, 12, 7, 8, 11, 11, 6, 17, 7, 15, 5, 11, 14, 5, 13, 17, 9, 6, 9, 6, 17, 8, 7, 11, 10, 13, 7, 8, 13, 10, 13, 10, 5, 10, 6, 9, 10, 9, 8, 9, 11, 11, 12, 6, 9, 15, 8, 13, 13, 10, 11, 10, 8, 12, 8, 5, 6, 5, 10, 9, 6, 9]\n"
     ]
    }
   ],
   "source": [
    "# Test your solution here\n",
    "h,b=histogram(data,100)\n",
    "print(h)"
   ]
  },
  {
   "cell_type": "markdown",
   "metadata": {},
   "source": [
    "*Exercise 4:* Write a function that uses the histogram function in the previous exercise to create a text-based \"graph\". For example the output could look like the following:\n",
    "```\n",
    "[  0,  1] : ######\n",
    "[  1,  2] : #####\n",
    "[  2,  3] : ######\n",
    "[  3,  4] : ####\n",
    "[  4,  5] : ####\n",
    "[  5,  6] : ######\n",
    "[  6,  7] : #####\n",
    "[  7,  8] : ######\n",
    "[  8,  9] : ####\n",
    "[  9, 10] : #####\n",
    "```\n",
    "\n",
    "Where each line corresponds to a bin and the number of `#`'s are proportional to the value of the data in the bin. "
   ]
  },
  {
   "cell_type": "code",
   "execution_count": 73,
   "metadata": {},
   "outputs": [],
   "source": [
    "# Solution\n",
    "def draw_histogram(x,n_bins,x_min=None,x_max=None,character=\"=\",max_character_per_line=20):\n",
    "    ### BEGIN SOLUTION\n",
    "#     print(n_bins)\n",
    "    hist,bin_edges = histogram(x,n_bins,x_min,x_max)\n",
    "#     print(len(bin_edges))\n",
    "#     print(max(hist),min(hist))\n",
    "    #print([str(bin_edges[0])[:4],str(bin_edges[0+1])[:4]])\n",
    "    for i in range(n_bins):\n",
    "        print(\"[\",str(bin_edges[i])[:7],\",\",str(bin_edges[i+1])[:7],\"]:\",end=\" \")\n",
    "        print(character*int(max_character_per_line*(hist[i]/max(hist))),hist[i])\n",
    "    # Fill in your solution here        \n",
    "    \n",
    "    ### END SOLUTION\n",
    "\n",
    "    #return hist,bin_edges"
   ]
  },
  {
   "cell_type": "code",
   "execution_count": 74,
   "metadata": {},
   "outputs": [
    {
     "name": "stdout",
     "output_type": "stream",
     "text": [
      "[ -9.9951 , -8.9974 ]: =================== 59\n",
      "[ -8.9974 , -7.9996 ]: ============== 45\n",
      "[ -7.9996 , -7.0018 ]: ================ 50\n",
      "[ -7.0018 , -6.0040 ]: ================= 53\n",
      "[ -6.0040 , -5.0062 ]: ================== 58\n",
      "[ -5.0062 , -4.0084 ]: =============== 47\n",
      "[ -4.0084 , -3.0106 ]: =============== 49\n",
      "[ -3.0106 , -2.0128 ]: ==================== 62\n",
      "[ -2.0128 , -1.0150 ]: ============= 43\n",
      "[ -1.0150 , -0.0172 ]: ================= 55\n",
      "[ -0.0172 , 0.98053 ]: ================== 58\n",
      "[ 0.98053 , 1.97832 ]: ============== 46\n",
      "[ 1.97832 , 2.97611 ]: =============== 48\n",
      "[ 2.97611 , 3.97391 ]: ================= 54\n",
      "[ 3.97391 , 4.97170 ]: ============ 40\n",
      "[ 4.97170 , 5.96949 ]: =============== 48\n",
      "[ 5.96949 , 6.96729 ]: ================ 50\n",
      "[ 6.96729 , 7.96508 ]: ================== 57\n",
      "[ 7.96508 , 8.96287 ]: ============ 39\n",
      "[ 8.96287 , 9.96067 ]: ============ 39\n"
     ]
    }
   ],
   "source": [
    "# Test your solution here\n",
    "#h,b=histogram(data,20)\n",
    "draw_histogram(data,20)"
   ]
  },
  {
   "cell_type": "markdown",
   "metadata": {},
   "source": [
    "## Functional Programming\n",
    "\n",
    "*Exercise 5:* Write a function the applies a booling function (that returns true/false) to every element in data, and return a list of indices of elements where the result was true. Use this function to find the indices of entries greater than 0.5. "
   ]
  },
  {
   "cell_type": "code",
   "execution_count": 114,
   "metadata": {},
   "outputs": [],
   "source": [
    "def morethanwhat(element,what=0.5):\n",
    "    return element > what\n",
    "\n",
    "def where(mylist,myfunc):\n",
    "    out= []\n",
    "    \n",
    "    ### BEGIN SOLUTION\n",
    "    \n",
    "    for i in range(len(mylist)):\n",
    "        if myfunc(mylist[i]) == True:\n",
    "            out.append(i)\n",
    "    # Fill in your solution here        \n",
    "    \n",
    "    ### END SOLUTION\n",
    "    #print(len(out))\n",
    "    return out"
   ]
  },
  {
   "cell_type": "code",
   "execution_count": 121,
   "metadata": {},
   "outputs": [
    {
     "name": "stdout",
     "output_type": "stream",
     "text": [
      "<class 'list'>\n",
      "451\n"
     ]
    },
    {
     "data": {
      "text/plain": [
       "[0,\n",
       " 1,\n",
       " 3,\n",
       " 7,\n",
       " 8,\n",
       " 14,\n",
       " 15,\n",
       " 16,\n",
       " 17,\n",
       " 19,\n",
       " 20,\n",
       " 23,\n",
       " 31,\n",
       " 32,\n",
       " 34,\n",
       " 41,\n",
       " 44,\n",
       " 47,\n",
       " 48,\n",
       " 49,\n",
       " 50,\n",
       " 51,\n",
       " 56,\n",
       " 57,\n",
       " 61,\n",
       " 63,\n",
       " 65,\n",
       " 69,\n",
       " 70,\n",
       " 71,\n",
       " 73,\n",
       " 77,\n",
       " 78,\n",
       " 79,\n",
       " 81,\n",
       " 84,\n",
       " 86,\n",
       " 87,\n",
       " 89,\n",
       " 94,\n",
       " 100,\n",
       " 102,\n",
       " 104,\n",
       " 106,\n",
       " 107,\n",
       " 108,\n",
       " 109,\n",
       " 110,\n",
       " 111,\n",
       " 113,\n",
       " 119,\n",
       " 122,\n",
       " 124,\n",
       " 126,\n",
       " 127,\n",
       " 129,\n",
       " 131,\n",
       " 132,\n",
       " 133,\n",
       " 134,\n",
       " 135,\n",
       " 136,\n",
       " 139,\n",
       " 143,\n",
       " 145,\n",
       " 155,\n",
       " 158,\n",
       " 160,\n",
       " 166,\n",
       " 171,\n",
       " 172,\n",
       " 174,\n",
       " 176,\n",
       " 181,\n",
       " 182,\n",
       " 184,\n",
       " 185,\n",
       " 190,\n",
       " 191,\n",
       " 197,\n",
       " 198,\n",
       " 201,\n",
       " 203,\n",
       " 209,\n",
       " 210,\n",
       " 212,\n",
       " 216,\n",
       " 219,\n",
       " 222,\n",
       " 225,\n",
       " 229,\n",
       " 232,\n",
       " 233,\n",
       " 235,\n",
       " 236,\n",
       " 238,\n",
       " 239,\n",
       " 240,\n",
       " 242,\n",
       " 243,\n",
       " 244,\n",
       " 245,\n",
       " 250,\n",
       " 253,\n",
       " 254,\n",
       " 255,\n",
       " 256,\n",
       " 257,\n",
       " 258,\n",
       " 259,\n",
       " 260,\n",
       " 263,\n",
       " 266,\n",
       " 268,\n",
       " 273,\n",
       " 274,\n",
       " 276,\n",
       " 278,\n",
       " 279,\n",
       " 281,\n",
       " 284,\n",
       " 285,\n",
       " 287,\n",
       " 288,\n",
       " 290,\n",
       " 292,\n",
       " 293,\n",
       " 294,\n",
       " 301,\n",
       " 303,\n",
       " 305,\n",
       " 309,\n",
       " 313,\n",
       " 316,\n",
       " 318,\n",
       " 320,\n",
       " 321,\n",
       " 323,\n",
       " 327,\n",
       " 329,\n",
       " 331,\n",
       " 334,\n",
       " 336,\n",
       " 337,\n",
       " 338,\n",
       " 340,\n",
       " 342,\n",
       " 343,\n",
       " 344,\n",
       " 346,\n",
       " 350,\n",
       " 351,\n",
       " 352,\n",
       " 354,\n",
       " 357,\n",
       " 358,\n",
       " 362,\n",
       " 363,\n",
       " 364,\n",
       " 365,\n",
       " 368,\n",
       " 369,\n",
       " 370,\n",
       " 372,\n",
       " 373,\n",
       " 374,\n",
       " 382,\n",
       " 391,\n",
       " 394,\n",
       " 397,\n",
       " 401,\n",
       " 402,\n",
       " 406,\n",
       " 408,\n",
       " 412,\n",
       " 413,\n",
       " 414,\n",
       " 417,\n",
       " 418,\n",
       " 419,\n",
       " 420,\n",
       " 421,\n",
       " 422,\n",
       " 424,\n",
       " 426,\n",
       " 427,\n",
       " 428,\n",
       " 430,\n",
       " 431,\n",
       " 434,\n",
       " 437,\n",
       " 439,\n",
       " 440,\n",
       " 442,\n",
       " 445,\n",
       " 446,\n",
       " 448,\n",
       " 450,\n",
       " 451,\n",
       " 455,\n",
       " 457,\n",
       " 458,\n",
       " 461,\n",
       " 462,\n",
       " 464,\n",
       " 466,\n",
       " 469,\n",
       " 471,\n",
       " 472,\n",
       " 474,\n",
       " 479,\n",
       " 480,\n",
       " 487,\n",
       " 489,\n",
       " 491,\n",
       " 492,\n",
       " 494,\n",
       " 495,\n",
       " 499,\n",
       " 501,\n",
       " 504,\n",
       " 507,\n",
       " 511,\n",
       " 515,\n",
       " 516,\n",
       " 522,\n",
       " 523,\n",
       " 524,\n",
       " 526,\n",
       " 527,\n",
       " 528,\n",
       " 529,\n",
       " 532,\n",
       " 535,\n",
       " 536,\n",
       " 538,\n",
       " 539,\n",
       " 540,\n",
       " 543,\n",
       " 544,\n",
       " 546,\n",
       " 553,\n",
       " 557,\n",
       " 558,\n",
       " 560,\n",
       " 561,\n",
       " 565,\n",
       " 566,\n",
       " 568,\n",
       " 570,\n",
       " 571,\n",
       " 572,\n",
       " 573,\n",
       " 574,\n",
       " 575,\n",
       " 580,\n",
       " 581,\n",
       " 582,\n",
       " 585,\n",
       " 590,\n",
       " 592,\n",
       " 593,\n",
       " 601,\n",
       " 605,\n",
       " 611,\n",
       " 613,\n",
       " 614,\n",
       " 615,\n",
       " 616,\n",
       " 617,\n",
       " 618,\n",
       " 620,\n",
       " 621,\n",
       " 623,\n",
       " 625,\n",
       " 626,\n",
       " 629,\n",
       " 632,\n",
       " 633,\n",
       " 634,\n",
       " 638,\n",
       " 639,\n",
       " 641,\n",
       " 642,\n",
       " 644,\n",
       " 645,\n",
       " 647,\n",
       " 648,\n",
       " 649,\n",
       " 650,\n",
       " 654,\n",
       " 656,\n",
       " 657,\n",
       " 658,\n",
       " 660,\n",
       " 662,\n",
       " 665,\n",
       " 666,\n",
       " 674,\n",
       " 675,\n",
       " 677,\n",
       " 679,\n",
       " 682,\n",
       " 683,\n",
       " 685,\n",
       " 687,\n",
       " 691,\n",
       " 694,\n",
       " 695,\n",
       " 696,\n",
       " 697,\n",
       " 699,\n",
       " 701,\n",
       " 702,\n",
       " 705,\n",
       " 708,\n",
       " 709,\n",
       " 710,\n",
       " 713,\n",
       " 715,\n",
       " 718,\n",
       " 722,\n",
       " 725,\n",
       " 726,\n",
       " 728,\n",
       " 729,\n",
       " 730,\n",
       " 733,\n",
       " 738,\n",
       " 740,\n",
       " 741,\n",
       " 742,\n",
       " 743,\n",
       " 750,\n",
       " 751,\n",
       " 752,\n",
       " 756,\n",
       " 757,\n",
       " 758,\n",
       " 761,\n",
       " 764,\n",
       " 766,\n",
       " 767,\n",
       " 769,\n",
       " 770,\n",
       " 771,\n",
       " 773,\n",
       " 774,\n",
       " 776,\n",
       " 778,\n",
       " 779,\n",
       " 780,\n",
       " 781,\n",
       " 783,\n",
       " 786,\n",
       " 787,\n",
       " 792,\n",
       " 794,\n",
       " 796,\n",
       " 799,\n",
       " 800,\n",
       " 801,\n",
       " 804,\n",
       " 805,\n",
       " 809,\n",
       " 817,\n",
       " 818,\n",
       " 820,\n",
       " 821,\n",
       " 822,\n",
       " 823,\n",
       " 824,\n",
       " 825,\n",
       " 829,\n",
       " 838,\n",
       " 840,\n",
       " 844,\n",
       " 846,\n",
       " 847,\n",
       " 848,\n",
       " 849,\n",
       " 851,\n",
       " 852,\n",
       " 853,\n",
       " 855,\n",
       " 857,\n",
       " 863,\n",
       " 864,\n",
       " 869,\n",
       " 871,\n",
       " 872,\n",
       " 874,\n",
       " 875,\n",
       " 876,\n",
       " 878,\n",
       " 879,\n",
       " 880,\n",
       " 889,\n",
       " 890,\n",
       " 893,\n",
       " 895,\n",
       " 896,\n",
       " 897,\n",
       " 898,\n",
       " 899,\n",
       " 908,\n",
       " 909,\n",
       " 910,\n",
       " 912,\n",
       " 913,\n",
       " 914,\n",
       " 915,\n",
       " 916,\n",
       " 919,\n",
       " 920,\n",
       " 923,\n",
       " 924,\n",
       " 929,\n",
       " 930,\n",
       " 932,\n",
       " 933,\n",
       " 934,\n",
       " 939,\n",
       " 941,\n",
       " 942,\n",
       " 943,\n",
       " 945,\n",
       " 946,\n",
       " 947,\n",
       " 948,\n",
       " 950,\n",
       " 951,\n",
       " 952,\n",
       " 954,\n",
       " 957,\n",
       " 960,\n",
       " 961,\n",
       " 963,\n",
       " 964,\n",
       " 969,\n",
       " 972,\n",
       " 973,\n",
       " 980,\n",
       " 983,\n",
       " 984,\n",
       " 986,\n",
       " 987,\n",
       " 989,\n",
       " 993,\n",
       " 996,\n",
       " 998]"
      ]
     },
     "execution_count": 121,
     "metadata": {},
     "output_type": "execute_result"
    }
   ],
   "source": [
    "# Test your solution here\n",
    "print(type(where(data,morethanhalf)))\n",
    "\n",
    "print(len(where(data,morethanhalf)))\n",
    "where(data,morethanhalf)\n"
   ]
  },
  {
   "cell_type": "markdown",
   "metadata": {},
   "source": [
    "*Exercise 6:* The inrange(mymin,mymax) function below returns a function that tests if it's input is between the specified values. Write corresponding functions that test:\n",
    "* Even\n",
    "* Odd\n",
    "* Greater than\n",
    "* Less than\n",
    "* Equal\n",
    "* Divisible by"
   ]
  },
  {
   "cell_type": "code",
   "execution_count": 119,
   "metadata": {},
   "outputs": [
    {
     "name": "stdout",
     "output_type": "stream",
     "text": [
      "True True False False False\n",
      "False False True True False\n",
      "Number of Entries passing F1: 479\n",
      "Number of Entries passing F2: 0\n"
     ]
    }
   ],
   "source": [
    "def in_range(mymin,mymax):\n",
    "    def testrange(x):\n",
    "        return x<mymax and x>=mymin\n",
    "    return testrange\n",
    "\n",
    "# Examples:\n",
    "F1=in_range(0,10)\n",
    "F2=in_range(10,20)\n",
    "\n",
    "# Test of in_range\n",
    "print (F1(0), F1(1), F1(10), F1(15), F1(20))\n",
    "print (F2(0), F2(1), F2(10), F2(15), F2(20))\n",
    "\n",
    "print (\"Number of Entries passing F1:\", len(where(data,F1)))\n",
    "print (\"Number of Entries passing F2:\", len(where(data,F2)))"
   ]
  },
  {
   "cell_type": "code",
   "execution_count": 122,
   "metadata": {},
   "outputs": [],
   "source": [
    "### BEGIN SOLUTION\n",
    "def is_even(x):\n",
    "    def testeven(x):\n",
    "        return x%2 == 0\n",
    "    return testeven(x)\n",
    "\n",
    "def is_odd(x):\n",
    "    def testodd(x):\n",
    "        return x%2 != 0\n",
    "    return testodd(x)\n",
    "\n",
    "def morethanwhat(element,what=0.5):\n",
    "    return element > what\n",
    "    # Fill in your solution here        \n",
    "    \n",
    "### END SOLUTION"
   ]
  },
  {
   "cell_type": "code",
   "execution_count": 125,
   "metadata": {},
   "outputs": [
    {
     "name": "stdout",
     "output_type": "stream",
     "text": [
      "[1, 3, 5, 7, 9] 5\n",
      "[0, 2, 4, 6, 8, 10] 6\n"
     ]
    }
   ],
   "source": [
    "# Test your solution\n",
    "test_list=[-5,-4,-3,-2,-1,0,1,2,3,4,5]\n",
    "#print(len(test_list))\n",
    "#is_even(10)\n",
    "print(where(test_list,is_even),len(where(test_list,is_even)))\n",
    "print(where(test_list,is_odd), len(where(test_list,is_odd)))"
   ]
  },
  {
   "cell_type": "markdown",
   "metadata": {},
   "source": [
    "*Exercise 7:* Repeat the previous exercise using `lambda` and the built-in python functions sum and map instead of your solution above. "
   ]
  },
  {
   "cell_type": "code",
   "execution_count": null,
   "metadata": {},
   "outputs": [],
   "source": [
    "### BEGIN SOLUTION\n",
    "\n",
    "    # Fill in your solution here        \n",
    "    \n",
    "### END SOLUTION"
   ]
  },
  {
   "cell_type": "markdown",
   "metadata": {},
   "source": [
    "## Monte Carlo\n",
    "\n",
    "*Exercise 7:* Write a \"generator\" function called `generate_function(func,x_min,x_max,N)`, that instead of generating a flat distribution, generates a distribution with functional form coded in `func`. Note that `func` will always be > 0.  \n",
    "\n",
    "Use the test function below and your histogramming functions above to demonstrate that your generator is working properly.\n",
    "\n",
    "Hint: A simple, but slow, solution is to a draw random number test_x within the specified range and another number p between the min and max of the function (which you will have to determine). If p<=function(test_x), then place test_x on the output. If not, repeat the process, drawing two new numbers. Repeat until you have the specified number of generated numbers, N. For this problem, it's OK to determine the min and max by numerically sampling the function.  "
   ]
  },
  {
   "cell_type": "code",
   "execution_count": null,
   "metadata": {},
   "outputs": [],
   "source": [
    "def generate_function(func,x_min,x_max,N=1000):\n",
    "    out = list()\n",
    "    ### BEGIN SOLUTION\n",
    "\n",
    "    # Fill in your solution here        \n",
    "    \n",
    "    ### END SOLUTION\n",
    "    \n",
    "    return out"
   ]
  },
  {
   "cell_type": "code",
   "execution_count": null,
   "metadata": {},
   "outputs": [],
   "source": [
    "# A test function\n",
    "def test_func(x,a=1,b=1):\n",
    "    return abs(a*x+b)"
   ]
  },
  {
   "cell_type": "markdown",
   "metadata": {},
   "source": [
    "*Exercise 8:* Use your function to generate 1000 numbers that are normal distributed, using the `gaussian` function below. Confirm the mean and variance of the data is close to the mean and variance you specify when building the Gaussian. Histogram the data. "
   ]
  },
  {
   "cell_type": "code",
   "execution_count": null,
   "metadata": {},
   "outputs": [],
   "source": [
    "import math\n",
    "\n",
    "def gaussian(mean, sigma):\n",
    "    def f(x):\n",
    "        return math.exp(-((x-mean)**2)/(2*sigma**2))/math.sqrt(math.pi*sigma)\n",
    "    return f\n",
    "\n",
    "# Example Instantiation\n",
    "g1=gaussian(0,1)\n",
    "g2=gaussian(10,3)"
   ]
  },
  {
   "cell_type": "markdown",
   "metadata": {},
   "source": [
    "*Exercise 9:* Combine your `generate_function`, `where`, and `in_range` functions above to create an integrate function. Use your integrate function to show that approximately 68% of Normal distribution is within one variance."
   ]
  },
  {
   "cell_type": "code",
   "execution_count": null,
   "metadata": {},
   "outputs": [],
   "source": [
    "def integrate(func, x_min, x_max, n_points=1000):\n",
    "    \n",
    "    return integral"
   ]
  },
  {
   "cell_type": "code",
   "execution_count": null,
   "metadata": {},
   "outputs": [],
   "source": []
  }
 ],
 "metadata": {
  "kernelspec": {
   "display_name": "Python 3 (ipykernel)",
   "language": "python",
   "name": "python3"
  },
  "language_info": {
   "codemirror_mode": {
    "name": "ipython",
    "version": 3
   },
   "file_extension": ".py",
   "mimetype": "text/x-python",
   "name": "python",
   "nbconvert_exporter": "python",
   "pygments_lexer": "ipython3",
   "version": "3.10.4"
  }
 },
 "nbformat": 4,
 "nbformat_minor": 2
}
