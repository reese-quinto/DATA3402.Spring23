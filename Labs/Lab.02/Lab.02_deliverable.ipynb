{
 "cells": [
  {
   "cell_type": "markdown",
   "metadata": {},
   "source": [
    "## Lab 2\n",
    "\n",
    "In this lab we will become familiar with distributions, histograms, and functional programming. Before that, lets submit your Quiz from last lecture.\n",
    "\n",
    "### Quiz Submission\n",
    "\n",
    "The instructions here aim to have our course repository be public (enabling things like the colab links), while student repositories are private. You should be familiar with git from the first semester of this course. I assume that you all have github accounts and have setup things to be able to [push to github using ssh](https://docs.github.com/en/github/authenticating-to-github/connecting-to-github-with-ssh). The instuctions here lead you to:\n",
    "\n",
    "1. Create a directory on your personal system where you will keep all course materials.\n",
    "1. Clone the [course repository](https://github.com/UTA-DataScience/DATA3402.Spring.2023).\n",
    "1. Create a new private repository for your solutions. \n",
    "1. Copy lab notebooks from course repository to your solutions repository.\n",
    "1. Commit / push your solutions.\n",
    "1. Grant access to course instructiors.\n",
    "\n",
    "Ideally, you should be able to do all of these steps yourself. Below are step by step instructions with examples (including example directory naming convention). Feel free to modify things as you see fit. The goal here to have a private repo where you can submit your solutions. \n",
    "\n",
    "1. Open a shell on your personal computer.\n",
    "1. If you have not done so already, create a new directory/folder where you will keep all course material to navigate to it. For example: `mkdir Data-3402` and `cd Data-3402`.\n",
    "1. Clone the course repository: `git clone https://github.com/UTA-DataScience/DATA3402.Spring.2023`.\n",
    "   1. Note that after the this clone, you simply need to navigate to this directory and do `git pull` to get updates (e.g. new labs).\n",
    "1. Make a new directory for your solutions and navigate to it: `mkdir DATA3402.Solutions.$USER` and `cd  DATA3402.Solutions.$USER`\n",
    "1. Make new directory for Labs and Lab 1: `mkdir Labs ; mkdir Labs/Labs.1`.\n",
    "1. Place your Quiz 1 solutions it this directory: `cp <path_to_solution> Labs/Labs.1 `\n",
    "   1. For Lab 1 and the future labs, just copy labs from the class repo, for example here: \n",
    "      * `mkdir Labs/Lab.2`\n",
    "      * `cp ../DATA3402.Spring.2023/Labs/Lab.2/Lab.2.ipynb Labs/Lab.2`\n",
    "1. Create a new git repository with same name are your directory above (i.e. `DATA3402.Solutions.$USER`). \n",
    "   * Navigate to your page on github.\n",
    "   * Use the \"+\" button to create a new repository.\n",
    "   * Make sure your repository is private.\n",
    "   * github will give you instructions on \"create a new repository on the command line\"\n",
    "1. After creating the repository, go to the repository settings tab, select \"Manage access\" on left, and press \"Invite a collaborator\" to invite course instructor (usernames `afarbin` and `anushka30`).\n",
    "1. To submit your labs, navigate to your private repo and \n",
    "   1. Make sure you have added the lab. For example: `git add Labs/Lab.1/Lab.1.ipynb`\n",
    "   1. Commit any changes: `git commit -a -m \"Lab 1 updates\"`\n",
    "   1. Push your changes: `git push`\n",
    "   1. Check on github that your solutions have been properly submitted.\n",
    "   \n",
    "   \n",
    "After submitting Quiz 1, continue work on lab 1, or start the remainder of this lab..."
   ]
  },
  {
   "cell_type": "markdown",
   "metadata": {},
   "source": [
    "### Uniform Distribution\n",
    "Lets start with generating some fake random data. You can get a random number between 0 and 1 using the python random module as follow:"
   ]
  },
  {
   "cell_type": "code",
   "execution_count": 1,
   "metadata": {},
   "outputs": [
    {
     "name": "stdout",
     "output_type": "stream",
     "text": [
      "The Value of x is 0.7962984887066955\n"
     ]
    }
   ],
   "source": [
    "import random\n",
    "x=random.random()\n",
    "print(\"The Value of x is\", x)"
   ]
  },
  {
   "cell_type": "markdown",
   "metadata": {},
   "source": [
    "Everytime you call random, you will get a new number.\n",
    "\n",
    "*Exercise 1:* Using random, write a function `generate_uniform(N, mymin, mymax)`, that returns a python list containing N random numbers between specified minimum and maximum value. Note that you may want to quickly work out on paper how to turn numbers between 0 and 1 to between other values. "
   ]
  },
  {
   "cell_type": "code",
   "execution_count": 2,
   "metadata": {},
   "outputs": [],
   "source": [
    "# Skeleton\n",
    "def generate_uniform(N,x_min,x_max):\n",
    "    out = []\n",
    "    ### BEGIN SOLUTION\n",
    "    randoms = [random.random() for _ in range(N)]\n",
    "    for i in range(len(randoms)):\n",
    "        out.append((x_max - x_min)*randoms[i]+x_min)\n",
    "    ### END SOLUTION\n",
    "    return out"
   ]
  },
  {
   "cell_type": "code",
   "execution_count": 6,
   "metadata": {},
   "outputs": [
    {
     "name": "stdout",
     "output_type": "stream",
     "text": [
      "Data Type: <class 'list'>\n",
      "Data Length: 1000\n",
      "Type of Data Contents: <class 'float'>\n",
      "Data Minimum: -9.995195700475513\n",
      "Data Maximum: 9.960673163143017\n"
     ]
    }
   ],
   "source": [
    "# Test your solution here\n",
    "data=generate_uniform(1000,-10,10)\n",
    "# print(data)\n",
    "print (\"Data Type:\", type(data))\n",
    "print (\"Data Length:\", len(data))\n",
    "if len(data)>0: \n",
    "    print (\"Type of Data Contents:\", type(data[0]))\n",
    "    print (\"Data Minimum:\", min(data))\n",
    "    print (\"Data Maximum:\", max(data))"
   ]
  },
  {
   "cell_type": "markdown",
   "metadata": {},
   "source": [
    "*Exercise 2a:* \n",
    "Write a function that computes the mean of values in a list. Recall the equation for the mean of a random variable $\\bf{x}$ computed on a data set of $n$ values $\\{ x_i \\} = \\{x_1, x_2, ..., x_n\\}$  is ${\\bf\\bar{x}} = \\frac{1}{n} \\sum_i^n x_i$."
   ]
  },
  {
   "cell_type": "code",
   "execution_count": 11,
   "metadata": {},
   "outputs": [],
   "source": [
    "# Skeleton\n",
    "def mean(Data):\n",
    "    m=0.\n",
    "    \n",
    "    ### BEGIN SOLUTION\n",
    "    n = len(Data)\n",
    "    total = sum(Data)\n",
    "    m = total/n\n",
    "    ### END SOLUTION\n",
    "    \n",
    "    return m"
   ]
  },
  {
   "cell_type": "code",
   "execution_count": 30,
   "metadata": {},
   "outputs": [
    {
     "name": "stdout",
     "output_type": "stream",
     "text": [
      "1000\n",
      "Mean of Data: -0.32482833979658354\n",
      "-0.32482833979658354\n"
     ]
    }
   ],
   "source": [
    "# Test your solution here\n",
    "print(len(data))\n",
    "print (\"Mean of Data:\", mean(data))\n",
    "print(sum(data)/len(data))"
   ]
  },
  {
   "cell_type": "markdown",
   "metadata": {},
   "source": [
    "*Exercise 2b:* \n",
    "Write a function that computes the variance of values in a list. Recall the equation for the variance of a random variable $\\bf{x}$ computed on a data set of $n$ values $\\{ x_i \\} = \\{x_1, x_2, ..., x_n\\}$  is ${\\bf\\langle x \\rangle} = \\frac{1}{n} \\sum_i^n (x_i - {\\bf\\bar{x}})$."
   ]
  },
  {
   "cell_type": "code",
   "execution_count": 232,
   "metadata": {},
   "outputs": [],
   "source": [
    "# Skeleton\n",
    "def my_variance(Data):\n",
    "    m=0.\n",
    "    \n",
    "    ### BEGIN SOLUTION\n",
    "    average = mean(Data)\n",
    "    n = len(Data)\n",
    "    total = 0\n",
    "    for i in range(n):\n",
    "        total = total + (Data[i]-average)\n",
    "    m = total/n\n",
    "    ### END SOLUTION\n",
    "    \n",
    "    return m"
   ]
  },
  {
   "cell_type": "code",
   "execution_count": 233,
   "metadata": {},
   "outputs": [
    {
     "name": "stdout",
     "output_type": "stream",
     "text": [
      "Variance of Data: 2.646771690706373e-16\n"
     ]
    }
   ],
   "source": [
    "# Test your solution here\n",
    "print (\"Variance of Data:\", my_variance(data))"
   ]
  },
  {
   "cell_type": "code",
   "execution_count": 234,
   "metadata": {},
   "outputs": [
    {
     "data": {
      "text/plain": [
       "2.646771690706373e-16"
      ]
     },
     "execution_count": 234,
     "metadata": {},
     "output_type": "execute_result"
    }
   ],
   "source": [
    "import statistics\n",
    "variance(data)"
   ]
  },
  {
   "cell_type": "markdown",
   "metadata": {},
   "source": [
    "## Histogramming"
   ]
  },
  {
   "cell_type": "markdown",
   "metadata": {},
   "source": [
    "*Exercise 3:* Write a function that bins the data so that you can create a histogram. An example of how to implement histogramming is the following logic:\n",
    "\n",
    "* User inputs a list of values `x` and optionally `n_bins` which defaults to 10.\n",
    "* If not supplied, find the minimum and maximum (`x_min`,`x_max`) of the values in x.\n",
    "* Determine the bin size (`bin_size`) by dividing the range of the function by the number of bins.\n",
    "* Create an empty list of zeros of size `n_bins`, call it `hist`.\n",
    "* Loop over the values in `x`\n",
    "    * Loop over the values in `hist` with index `i`:\n",
    "        * If x is between `x_min+i*bin_size` and `x_min+(i+1)*bin_size`, increment `hist[i].` \n",
    "        * For efficiency, try to use continue to goto the next bin and data point.\n",
    "* Return `hist` and the list corresponding of the bin edges (i.e. of `x_min+i*bin_size`).    "
   ]
  },
  {
   "cell_type": "code",
   "execution_count": 35,
   "metadata": {},
   "outputs": [],
   "source": [
    "# Solution\n",
    "def histogram(x,n_bins=10,x_min=None,x_max=None):\n",
    "    ### BEGIN SOLUTION\n",
    "    x_min = min(x)\n",
    "    x_max = max(x)\n",
    "    bin_size = (x_max - x_min)/n_bins\n",
    "    hist = [0 for _ in range(n_bins)]\n",
    "\n",
    "    bin_edges = list()\n",
    "    for i in range(n_bins):\n",
    "        bin_edges.append(x_min+i*bin_size)\n",
    "    bin_edges.append(x_min+(i+1)*bin_size)\n",
    "    for i in range(len(hist)):\n",
    "        for _ in range(len(x)):\n",
    "            if (x[_]>=(x_min+i*bin_size)) and (x[_]<=(x_min+(i+1)*bin_size)):\n",
    "                hist[i]+=1\n",
    "\n",
    "    return hist,bin_edges"
   ]
  },
  {
   "cell_type": "code",
   "execution_count": 36,
   "metadata": {},
   "outputs": [
    {
     "data": {
      "text/plain": [
       "([104, 103, 105, 111, 98, 104, 102, 88, 107, 78],\n",
       " [-9.995195700475513,\n",
       "  -7.99960881411366,\n",
       "  -6.004021927751807,\n",
       "  -4.008435041389953,\n",
       "  -2.0128481550281005,\n",
       "  -0.017261268666247886,\n",
       "  1.9783256176956066,\n",
       "  3.973912504057459,\n",
       "  5.969499390419312,\n",
       "  7.9650862767811645,\n",
       "  9.960673163143017])"
      ]
     },
     "execution_count": 36,
     "metadata": {},
     "output_type": "execute_result"
    }
   ],
   "source": [
    "histogram(data,10)"
   ]
  },
  {
   "cell_type": "code",
   "execution_count": 37,
   "metadata": {},
   "outputs": [
    {
     "name": "stdout",
     "output_type": "stream",
     "text": [
      "[19, 7, 12, 10, 11, 9, 14, 5, 7, 10, 13, 9, 10, 6, 12, 9, 11, 6, 15, 12, 11, 14, 15, 10, 8, 8, 3, 16, 8, 12, 8, 14, 9, 12, 6, 7, 18, 14, 11, 12, 7, 8, 11, 11, 6, 17, 7, 15, 5, 11, 14, 5, 13, 17, 9, 6, 9, 6, 17, 8, 7, 11, 10, 13, 7, 8, 13, 10, 13, 10, 5, 10, 6, 9, 10, 9, 8, 9, 11, 11, 12, 6, 9, 15, 8, 13, 13, 10, 11, 10, 8, 12, 8, 5, 6, 5, 10, 9, 6, 9]\n"
     ]
    }
   ],
   "source": [
    "# Test your solution here\n",
    "h,b=histogram(data,100)\n",
    "print(h)"
   ]
  },
  {
   "cell_type": "markdown",
   "metadata": {},
   "source": [
    "*Exercise 4:* Write a function that uses the histogram function in the previous exercise to create a text-based \"graph\". For example the output could look like the following:\n",
    "```\n",
    "[  0,  1] : ######\n",
    "[  1,  2] : #####\n",
    "[  2,  3] : ######\n",
    "[  3,  4] : ####\n",
    "[  4,  5] : ####\n",
    "[  5,  6] : ######\n",
    "[  6,  7] : #####\n",
    "[  7,  8] : ######\n",
    "[  8,  9] : ####\n",
    "[  9, 10] : #####\n",
    "```\n",
    "\n",
    "Where each line corresponds to a bin and the number of `#`'s are proportional to the value of the data in the bin. "
   ]
  },
  {
   "cell_type": "code",
   "execution_count": 73,
   "metadata": {},
   "outputs": [],
   "source": [
    "# Solution\n",
    "def draw_histogram(x,n_bins,x_min=None,x_max=None,character=\"=\",max_character_per_line=20):\n",
    "    ### BEGIN SOLUTION\n",
    "#     print(n_bins)\n",
    "    hist,bin_edges = histogram(x,n_bins,x_min,x_max)\n",
    "#     print(len(bin_edges))\n",
    "#     print(max(hist),min(hist))\n",
    "    #print([str(bin_edges[0])[:4],str(bin_edges[0+1])[:4]])\n",
    "    for i in range(n_bins):\n",
    "        print(\"[\",str(bin_edges[i])[:7],\",\",str(bin_edges[i+1])[:7],\"]:\",end=\" \")\n",
    "        print(character*int(max_character_per_line*(hist[i]/max(hist))),hist[i])\n",
    "    # Fill in your solution here        \n",
    "    \n",
    "    ### END SOLUTION\n",
    "\n",
    "    #return hist,bin_edges"
   ]
  },
  {
   "cell_type": "code",
   "execution_count": 74,
   "metadata": {},
   "outputs": [
    {
     "name": "stdout",
     "output_type": "stream",
     "text": [
      "[ -9.9951 , -8.9974 ]: =================== 59\n",
      "[ -8.9974 , -7.9996 ]: ============== 45\n",
      "[ -7.9996 , -7.0018 ]: ================ 50\n",
      "[ -7.0018 , -6.0040 ]: ================= 53\n",
      "[ -6.0040 , -5.0062 ]: ================== 58\n",
      "[ -5.0062 , -4.0084 ]: =============== 47\n",
      "[ -4.0084 , -3.0106 ]: =============== 49\n",
      "[ -3.0106 , -2.0128 ]: ==================== 62\n",
      "[ -2.0128 , -1.0150 ]: ============= 43\n",
      "[ -1.0150 , -0.0172 ]: ================= 55\n",
      "[ -0.0172 , 0.98053 ]: ================== 58\n",
      "[ 0.98053 , 1.97832 ]: ============== 46\n",
      "[ 1.97832 , 2.97611 ]: =============== 48\n",
      "[ 2.97611 , 3.97391 ]: ================= 54\n",
      "[ 3.97391 , 4.97170 ]: ============ 40\n",
      "[ 4.97170 , 5.96949 ]: =============== 48\n",
      "[ 5.96949 , 6.96729 ]: ================ 50\n",
      "[ 6.96729 , 7.96508 ]: ================== 57\n",
      "[ 7.96508 , 8.96287 ]: ============ 39\n",
      "[ 8.96287 , 9.96067 ]: ============ 39\n"
     ]
    }
   ],
   "source": [
    "# Test your solution here\n",
    "#h,b=histogram(data,20)\n",
    "draw_histogram(data,20)"
   ]
  },
  {
   "cell_type": "markdown",
   "metadata": {},
   "source": [
    "## Functional Programming\n",
    "\n",
    "*Exercise 5:* Write a function the applies a booling function (that returns true/false) to every element in data, and return a list of indices of elements where the result was true. Use this function to find the indices of entries greater than 0.5. "
   ]
  },
  {
   "cell_type": "code",
   "execution_count": 176,
   "metadata": {},
   "outputs": [],
   "source": [
    "def morethanhalf(element):\n",
    "    return element > 0.5\n",
    "\n",
    "def where(mylist,myfunc,*args):\n",
    "    out= []\n",
    "    \n",
    "    for i in range(len(mylist)):\n",
    "        if myfunc(mylist[i],*args) == True:\n",
    "            out.append(i)\n",
    "    \n",
    "    return out"
   ]
  },
  {
   "cell_type": "code",
   "execution_count": 177,
   "metadata": {},
   "outputs": [
    {
     "name": "stdout",
     "output_type": "stream",
     "text": [
      "[0, 1, 3, 7, 8, 14, 15, 16, 17, 19, 20, 23, 31, 32, 34, 41, 44, 47, 48, 49, 50, 51, 56, 57, 61, 63, 65, 69, 70, 71, 73, 77, 78, 79, 81, 84, 86, 87, 89, 94, 100, 102, 104, 106, 107, 108, 109, 110, 111, 113, 119, 122, 124, 126, 127, 129, 131, 132, 133, 134, 135, 136, 139, 143, 145, 155, 158, 160, 166, 171, 172, 174, 176, 181, 182, 184, 185, 190, 191, 197, 198, 201, 203, 209, 210, 212, 216, 219, 222, 225, 229, 232, 233, 235, 236, 238, 239, 240, 242, 243, 244, 245, 250, 253, 254, 255, 256, 257, 258, 259, 260, 263, 266, 268, 273, 274, 276, 278, 279, 281, 284, 285, 287, 288, 290, 292, 293, 294, 301, 303, 305, 309, 313, 316, 318, 320, 321, 323, 327, 329, 331, 334, 336, 337, 338, 340, 342, 343, 344, 346, 350, 351, 352, 354, 357, 358, 362, 363, 364, 365, 368, 369, 370, 372, 373, 374, 382, 391, 394, 397, 401, 402, 406, 408, 412, 413, 414, 417, 418, 419, 420, 421, 422, 424, 426, 427, 428, 430, 431, 434, 437, 439, 440, 442, 445, 446, 448, 450, 451, 455, 457, 458, 461, 462, 464, 466, 469, 471, 472, 474, 479, 480, 487, 489, 491, 492, 494, 495, 499, 501, 504, 507, 511, 515, 516, 522, 523, 524, 526, 527, 528, 529, 532, 535, 536, 538, 539, 540, 543, 544, 546, 553, 557, 558, 560, 561, 565, 566, 568, 570, 571, 572, 573, 574, 575, 580, 581, 582, 585, 590, 592, 593, 601, 605, 611, 613, 614, 615, 616, 617, 618, 620, 621, 623, 625, 626, 629, 632, 633, 634, 638, 639, 641, 642, 644, 645, 647, 648, 649, 650, 654, 656, 657, 658, 660, 662, 665, 666, 674, 675, 677, 679, 682, 683, 685, 687, 691, 694, 695, 696, 697, 699, 701, 702, 705, 708, 709, 710, 713, 715, 718, 722, 725, 726, 728, 729, 730, 733, 738, 740, 741, 742, 743, 750, 751, 752, 756, 757, 758, 761, 764, 766, 767, 769, 770, 771, 773, 774, 776, 778, 779, 780, 781, 783, 786, 787, 792, 794, 796, 799, 800, 801, 804, 805, 809, 817, 818, 820, 821, 822, 823, 824, 825, 829, 838, 840, 844, 846, 847, 848, 849, 851, 852, 853, 855, 857, 863, 864, 869, 871, 872, 874, 875, 876, 878, 879, 880, 889, 890, 893, 895, 896, 897, 898, 899, 908, 909, 910, 912, 913, 914, 915, 916, 919, 920, 923, 924, 929, 930, 932, 933, 934, 939, 941, 942, 943, 945, 946, 947, 948, 950, 951, 952, 954, 957, 960, 961, 963, 964, 969, 972, 973, 980, 983, 984, 986, 987, 989, 993, 996, 998]\n"
     ]
    }
   ],
   "source": [
    "# Test your solution here\n",
    "#print(type(where(data,morethanhalf)))\n",
    "#morethanwhat(1,0)\n",
    "#print(len(where(data,morethanhalf)))\n",
    "what=.5\n",
    "print(where(data,morethanhalf))\n"
   ]
  },
  {
   "cell_type": "markdown",
   "metadata": {},
   "source": [
    "*Exercise 6:* The inrange(mymin,mymax) function below returns a function that tests if it's input is between the specified values. Write corresponding functions that test:\n",
    "* Even\n",
    "* Odd\n",
    "* Greater than\n",
    "* Less than\n",
    "* Equal\n",
    "* Divisible by"
   ]
  },
  {
   "cell_type": "code",
   "execution_count": 178,
   "metadata": {},
   "outputs": [
    {
     "name": "stdout",
     "output_type": "stream",
     "text": [
      "True True False False False\n",
      "False False True True False\n",
      "Number of Entries passing F1: 479\n",
      "Number of Entries passing F2: 0\n"
     ]
    }
   ],
   "source": [
    "def in_range(mymin,mymax):\n",
    "    def testrange(x):\n",
    "        return x<mymax and x>=mymin\n",
    "    return testrange\n",
    "\n",
    "# Examples:\n",
    "F1=in_range(0,10)\n",
    "F2=in_range(10,20)\n",
    "\n",
    "# Test of in_range\n",
    "print (F1(0), F1(1), F1(10), F1(15), F1(20))\n",
    "print (F2(0), F2(1), F2(10), F2(15), F2(20))\n",
    "\n",
    "print (\"Number of Entries passing F1:\", len(where(data,F1)))\n",
    "print (\"Number of Entries passing F2:\", len(where(data,F2)))"
   ]
  },
  {
   "cell_type": "code",
   "execution_count": 192,
   "metadata": {},
   "outputs": [],
   "source": [
    "def is_even(x):\n",
    "    def testeven(x):\n",
    "        return x%2 == 0\n",
    "    return testeven(x)\n",
    "\n",
    "def is_odd(x):\n",
    "    def testodd(x):\n",
    "        return x%2 != 0\n",
    "    return testodd(x)\n",
    "\n",
    "def is_greater_than(x,what):\n",
    "    return x > what   \n",
    "\n",
    "def is_less_than(x,what):\n",
    "    return x < what   \n",
    "\n",
    "def is_equal_to(x,what):\n",
    "    return (x == what)\n",
    "\n",
    "def is_divisible_by(x,what):\n",
    "    if (x==0) or (what==0):\n",
    "        return False\n",
    "    else:\n",
    "        return (x%what)==0\n",
    "\n",
    "### END SOLUTION"
   ]
  },
  {
   "cell_type": "code",
   "execution_count": 196,
   "metadata": {},
   "outputs": [
    {
     "name": "stdout",
     "output_type": "stream",
     "text": [
      "[0, 2, 4, 6, 8, 10, 12, 14, 16, 18, 20] 11\n",
      "[1, 3, 5, 7, 9, 11, 13, 15, 17, 19] 10\n",
      "[11, 12, 13, 14, 15, 16, 17, 18, 19, 20] 10\n",
      "[0, 1, 2, 3, 4, 5, 6, 7, 8, 9] 10\n",
      "[10] 1\n",
      "[] 0\n",
      "[1, 4, 7, 13, 16, 19] 6\n"
     ]
    }
   ],
   "source": [
    "# Test your solution\n",
    "test_list=[-10,-9,-8,-7,-6,-5,-4,-3,-2,-1,0,1,2,3,4,5,6,7,8,9,10]\n",
    "\n",
    "print(where(test_list,is_even), len(where(test_list,is_even)))\n",
    "print(where(test_list,is_odd), len(where(test_list,is_odd)))\n",
    "print(where(test_list,is_greater_than,0), len(where(test_list,is_greater_than,0)))\n",
    "print(where(test_list,is_less_than,0), len(where(test_list,is_less_than,0)))\n",
    "print(where(test_list,is_equal_to,0), len(where(test_list,is_equal_to,0)))\n",
    "\n",
    "print(where(test_list,is_divisible_by,0), len(where(test_list,is_divisible_by,0)))\n",
    "print(where(test_list,is_divisible_by,3), len(where(test_list,is_divisible_by,3)))"
   ]
  },
  {
   "cell_type": "markdown",
   "metadata": {},
   "source": [
    "*Exercise 7:* Repeat the previous exercise using `lambda` and the built-in python functions sum and map instead of your solution above. "
   ]
  },
  {
   "cell_type": "code",
   "execution_count": 201,
   "metadata": {},
   "outputs": [
    {
     "name": "stdout",
     "output_type": "stream",
     "text": [
      "[True, False, True, False, True, False, True, False, True, False, True, False, True, False, True, False, True, False, True, False, True]\n",
      "[False, True, False, True, False, True, False, True, False, True, False, True, False, True, False, True, False, True, False, True, False]\n",
      "True\n",
      "False\n",
      "False\n",
      "False\n"
     ]
    }
   ],
   "source": [
    "### BEGIN SOLUTION\n",
    "\n",
    "lambda_even = map(lambda x: x%2==0,test_list)\n",
    "print(list(lambda_even))\n",
    "\n",
    "lambda_odd = map(lambda x: x%2==1,test_list)\n",
    "print(list(lambda_odd))\n",
    "\n",
    "lambda_greater_than = lambda x,y: x > y #, test_list)\n",
    "print(lambda_greater_than(1,0))\n",
    "#print(list(lambda_greater_than))\n",
    "\n",
    "lambda_less_than = lambda x,y: x < y\n",
    "print(lambda_less_than(1,0))\n",
    "\n",
    "lambda_is_equal_to = lambda x,y: x==y\n",
    "print(lambda_is_equal_to(1,0))\n",
    "\n",
    "lambda_divisible_by = lambda x,y: (x%y)==0\n",
    "print(lambda_divisible_by(5,3))\n",
    "\n",
    "### END SOLUTION"
   ]
  },
  {
   "cell_type": "markdown",
   "metadata": {},
   "source": [
    "## Monte Carlo\n",
    "\n",
    "*Exercise 7:* Write a \"generator\" function called `generate_function(func,x_min,x_max,N)`, that instead of generating a flat distribution, generates a distribution with functional form coded in `func`. Note that `func` will always be > 0.  \n",
    "\n",
    "Use the test function below and your histogramming functions above to demonstrate that your generator is working properly.\n",
    "\n",
    "Hint: A simple, but slow, solution is to a draw random number test_x within the specified range and another number p between the min and max of the function (which you will have to determine). If p<=function(test_x), then place test_x on the output. If not, repeat the process, drawing two new numbers. Repeat until you have the specified number of generated numbers, N. For this problem, it's OK to determine the min and max by numerically sampling the function.  "
   ]
  },
  {
   "cell_type": "code",
   "execution_count": 221,
   "metadata": {},
   "outputs": [],
   "source": [
    "#(x_max - x_min)*randoms[i]+x_min\n",
    "\n",
    "def generate_function(func,x_min,x_max,N=1000):\n",
    "    rand_samps_lst = list()\n",
    "    intervalx = x_max - x_min\n",
    "    \n",
    "    dx = intervalx/N\n",
    "    samp_x_coord = [x_min + (i*dx) for i in range(N+1)]\n",
    "    samp_y_coord = [func(x) for x in samp_x_coord]\n",
    "    \n",
    "    min_of_func = min(samp_y_coord)\n",
    "    max_of_func = max(samp_y_coord)\n",
    "    \n",
    "    while len(rand_samps_lst) < N:\n",
    "        x = random.uniform(x_min,x_max)\n",
    "        p = random.uniform(min_of_func, max_of_func)\n",
    "        if p <= func(x):\n",
    "            rand_samps_lst.append(x)\n",
    "            \n",
    "    return rand_samps_lst\n",
    "    "
   ]
  },
  {
   "cell_type": "code",
   "execution_count": 213,
   "metadata": {},
   "outputs": [
    {
     "name": "stdout",
     "output_type": "stream",
     "text": [
      "[ 0.20413 , 5.19389 ]: = 247\n",
      "[ 5.19389 , 10.1836 ]: === 757\n",
      "[ 10.1836 , 15.1734 ]: ====== 1242\n",
      "[ 15.1734 , 20.1631 ]: ========= 1756\n",
      "[ 20.1631 , 25.1529 ]: =========== 2229\n",
      "[ 25.1529 , 30.1427 ]: ============== 2742\n",
      "[ 30.1427 , 35.1324 ]: ================ 3281\n",
      "[ 35.1324 , 40.1222 ]: =================== 3782\n",
      "[ 40.1222 , 45.1120 ]: ===================== 4201\n",
      "[ 45.1120 , 50.1017 ]: ======================== 4806\n",
      "[ 50.1017 , 55.0915 ]: ========================== 5226\n",
      "[ 55.0915 , 60.0813 ]: ============================= 5706\n",
      "[ 60.0813 , 65.0710 ]: =============================== 6206\n",
      "[ 65.0710 , 70.0608 ]: ================================== 6764\n",
      "[ 70.0608 , 75.0505 ]: ===================================== 7245\n",
      "[ 75.0505 , 80.0403 ]: ======================================== 7815\n",
      "[ 80.0403 , 85.0301 ]: ========================================= 8164\n",
      "[ 85.0301 , 90.0198 ]: ============================================= 8875\n",
      "[ 90.0198 , 95.0096 ]: =============================================== 9207\n",
      "[ 95.0096 , 99.9994 ]: ================================================== 9749\n"
     ]
    }
   ],
   "source": [
    "# A test function\n",
    "def test_func(x,a=1,b=1):\n",
    "    return abs(a*x+b)\n",
    "\n",
    "test_gen_func = generate_function(test_func,0,100,N=100000)\n",
    "#print(test_gen_func)\n",
    "#draw_histogram(x,n_bins,x_min=None,x_max=None,character=\"=\",max_character_per_line=20)\n",
    "draw_histogram(test_gen_func,n_bins=20,max_character_per_line=50)"
   ]
  },
  {
   "cell_type": "markdown",
   "metadata": {},
   "source": [
    "*Exercise 8:* Use your function to generate 1000 numbers that are normal distributed, using the `gaussian` function below. Confirm the mean and variance of the data is close to the mean and variance you specify when building the Gaussian. Histogram the data. "
   ]
  },
  {
   "cell_type": "code",
   "execution_count": 222,
   "metadata": {},
   "outputs": [],
   "source": [
    "import math\n",
    "\n",
    "def gaussian(mean, sigma):\n",
    "    def f(x):\n",
    "        return math.exp((-.5)*((x-mean)**2)/(sigma**2))/(sigma*(math.sqrt(math.pi*2)))\n",
    "    return f\n",
    "\n",
    "# Example Instantiation\n",
    "g1=gaussian(0,1)\n",
    "g2=gaussian(10,3)"
   ]
  },
  {
   "cell_type": "code",
   "execution_count": 237,
   "metadata": {},
   "outputs": [
    {
     "name": "stdout",
     "output_type": "stream",
     "text": [
      "-0.0025238140527348877\n",
      "7.355712179934448e-32\n",
      "7.355712179934448e-32\n",
      "[ -9.8271 , -9.1705 ]:  28\n",
      "[ -9.1705 , -8.5139 ]:  87\n",
      "[ -8.5139 , -7.8573 ]:  169\n",
      "[ -7.8573 , -7.2006 ]: = 351\n",
      "[ -7.2006 , -6.5440 ]: === 657\n",
      "[ -6.5440 , -5.8874 ]: ===== 1010\n",
      "[ -5.8874 , -5.2308 ]: ======== 1552\n",
      "[ -5.2308 , -4.5741 ]: ============= 2422\n",
      "[ -4.5741 , -3.9175 ]: ================== 3206\n",
      "[ -3.9175 , -3.2609 ]: ======================== 4254\n",
      "[ -3.2609 , -2.6043 ]: =============================== 5552\n",
      "[ -2.6043 , -1.9476 ]: ==================================== 6413\n",
      "[ -1.9476 , -1.2910 ]: ========================================== 7476\n",
      "[ -1.2910 , -0.6344 ]: =============================================== 8300\n",
      "[ -0.6344 , 0.02220 ]: ================================================== 8810\n",
      "[ 0.02220 , 0.67883 ]: ================================================= 8737\n",
      "[ 0.67883 , 1.33545 ]: ============================================== 8140\n",
      "[ 1.33545 , 1.99208 ]: =========================================== 7651\n",
      "[ 1.99208 , 2.64871 ]: ==================================== 6457\n",
      "[ 2.64871 , 3.30533 ]: ============================== 5355\n",
      "[ 3.30533 , 3.96196 ]: ======================= 4207\n",
      "[ 3.96196 , 4.61859 ]: ================= 3153\n",
      "[ 4.61859 , 5.27521 ]: ============= 2315\n",
      "[ 5.27521 , 5.93184 ]: ======== 1536\n",
      "[ 5.93184 , 6.58847 ]: ===== 975\n",
      "[ 6.58847 , 7.24509 ]: === 607\n",
      "[ 7.24509 , 7.90172 ]: = 322\n",
      "[ 7.90172 , 8.55834 ]:  168\n",
      "[ 8.55834 , 9.21497 ]:  61\n",
      "[ 9.21497 , 9.87160 ]:  28\n"
     ]
    }
   ],
   "source": [
    "my_gaussian = generate_function(gaussian(0,3),x_min=-10,x_max=10,N=100000)\n",
    "print(mean(my_gaussian))\n",
    "print(my_variance(my_gaussian)**2)\n",
    "print(variance(my_gaussian)**2)\n",
    "draw_histogram(my_gaussian,n_bins=30,max_character_per_line=50)\n"
   ]
  },
  {
   "cell_type": "markdown",
   "metadata": {},
   "source": [
    "*Exercise 9:* Combine your `generate_function`, `where`, and `in_range` functions above to create an integrate function. Use your integrate function to show that approximately 68% of Normal distribution is within one variance."
   ]
  },
  {
   "cell_type": "code",
   "execution_count": null,
   "metadata": {},
   "outputs": [],
   "source": [
    "#generate_function(func,x_min,x_max,N=1000) - returns list with specified distribution\n",
    "# where(mylist,myfunc,*args) - returns list of indecies that make function true\n",
    "# def in_range(mymin,mymax): - tests if a point is between 2 specified numbers\n",
    "#     def testrange(x):\n",
    "#         return x<mymax and x>=mymin\n",
    "#     return testrange\n",
    "\n",
    "# # Examples:\n",
    "# F1=in_range(0,10)\n",
    "# F2=in_range(10,20)\n",
    "\n",
    "def integrate(func, x_min, x_max, n_points=1000):\n",
    "    #integration is the continuous sum of height on the curve * an x interval,dx.\n",
    "    \n",
    "    #establish dx\n",
    "    intervalx = x_max - x_min\n",
    "    dx = intervalx/n_points\n",
    "    \n",
    "    #establish y value\n",
    "    x_vals = [x_min + (i*dx) for i in range(n_points+1)]\n",
    "    y_vals = [func(x) for x in x_vals]\n",
    "    \n",
    "    # area of ea slice\n",
    "    for i in range(y_vals):\n",
    "        \n",
    "    \n",
    "    distribution = generate_function(func,x_min,x_max,N=n_points)\n",
    "    total_points = len(distribution)\n",
    "    \n",
    "    \n",
    "    return integral"
   ]
  },
  {
   "cell_type": "code",
   "execution_count": null,
   "metadata": {},
   "outputs": [],
   "source": []
  }
 ],
 "metadata": {
  "kernelspec": {
   "display_name": "Python 3 (ipykernel)",
   "language": "python",
   "name": "python3"
  },
  "language_info": {
   "codemirror_mode": {
    "name": "ipython",
    "version": 3
   },
   "file_extension": ".py",
   "mimetype": "text/x-python",
   "name": "python",
   "nbconvert_exporter": "python",
   "pygments_lexer": "ipython3",
   "version": "3.10.4"
  }
 },
 "nbformat": 4,
 "nbformat_minor": 2
}
