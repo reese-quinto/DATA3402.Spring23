{
 "cells": [
  {
   "cell_type": "code",
   "execution_count": 3,
   "id": "cc95581f",
   "metadata": {},
   "outputs": [],
   "source": [
    "import random\n",
    "import statistics\n",
    "import math\n",
    "import numpy as np"
   ]
  },
  {
   "cell_type": "code",
   "execution_count": 4,
   "id": "bc324755",
   "metadata": {},
   "outputs": [],
   "source": [
    "def generate_uniform(N,x_min,x_max):\n",
    "    out = []\n",
    "    ### BEGIN SOLUTION\n",
    "    randoms = [random.random() for _ in range(N)]\n",
    "    for i in range(len(randoms)):\n",
    "        out.append((x_max - x_min)*randoms[i]+x_min)\n",
    "    ### END SOLUTION\n",
    "    return out"
   ]
  },
  {
   "cell_type": "code",
   "execution_count": 6,
   "id": "d1ee2118",
   "metadata": {
    "scrolled": true
   },
   "outputs": [
    {
     "data": {
      "text/plain": [
       "[92.39759378803173,\n",
       " 68.07250238443794,\n",
       " 43.38085955873196,\n",
       " 36.56390639194467,\n",
       " 58.25616893711837,\n",
       " 89.9624070653631,\n",
       " 54.25976808983863,\n",
       " 25.733287946611604,\n",
       " 34.39693449303549,\n",
       " 47.09796350010569,\n",
       " 21.207917174166436,\n",
       " 45.213365139048136,\n",
       " 90.96937954065204,\n",
       " 9.255715531856124,\n",
       " 99.23485822033487,\n",
       " 39.68875341365919,\n",
       " 90.0576096944894,\n",
       " 28.760160564046878,\n",
       " 16.034075146594184,\n",
       " 83.29898898026482,\n",
       " 37.14320865894095,\n",
       " 45.60448745081464,\n",
       " 41.882703649385775,\n",
       " 2.511984646776333,\n",
       " 92.45743876593949,\n",
       " 70.26628190986307,\n",
       " 99.94729198739431,\n",
       " 88.48422772230693,\n",
       " 97.22956498157154,\n",
       " 67.01456146322967,\n",
       " 90.03345977439714,\n",
       " 63.8947877017343,\n",
       " 64.63478068064201,\n",
       " 40.33683608533345,\n",
       " 83.77057437676608,\n",
       " 43.937684619818995,\n",
       " 35.59413041275262,\n",
       " 71.59576788355821,\n",
       " 79.38367737853208,\n",
       " 71.12800243746142,\n",
       " 89.55996013772786,\n",
       " 14.259502771583277,\n",
       " 90.16604191158132,\n",
       " 18.971314561043506,\n",
       " 75.9775125025264,\n",
       " 34.13344703078083,\n",
       " 18.119688844639924,\n",
       " 77.48790348897863,\n",
       " 43.71065761635011,\n",
       " 33.537937444242814,\n",
       " 54.91888972640315,\n",
       " 21.262549628302008,\n",
       " 47.614846053498916,\n",
       " 24.999203139003868,\n",
       " 28.12669884511324,\n",
       " 97.72089290230808,\n",
       " 67.94673544536575,\n",
       " 27.10164764974975,\n",
       " 97.72498461968355,\n",
       " 65.31542968802884,\n",
       " 1.5326467834744228,\n",
       " 76.21967620101672,\n",
       " 95.54767923172935,\n",
       " 68.34291864653707,\n",
       " 67.49999991611364,\n",
       " 9.599124734059195,\n",
       " 20.300080848159286,\n",
       " 15.541913354713211,\n",
       " 7.147919167653716,\n",
       " 9.174263119362658,\n",
       " 55.31923297316447,\n",
       " 9.282786361923456,\n",
       " 67.01089174335554,\n",
       " 6.801602690657238,\n",
       " 82.49809620905806,\n",
       " 67.49327345149739,\n",
       " 21.539180678091775,\n",
       " 98.82759473652155,\n",
       " 61.25607944786371,\n",
       " 25.034539886907037,\n",
       " 85.80180677948943,\n",
       " 10.058939227699849,\n",
       " 70.21704509317135,\n",
       " 26.402109503340355,\n",
       " 75.8424394353203,\n",
       " 35.204030790240616,\n",
       " 98.24171990380745,\n",
       " 81.35024261194366,\n",
       " 35.06159747201286,\n",
       " 1.8933832473869705,\n",
       " 67.05747082439004,\n",
       " 75.688974361292,\n",
       " 44.15674651277913,\n",
       " 0.7262197915487767,\n",
       " 76.48282278547036,\n",
       " 67.2470229844587,\n",
       " 87.09033119579416,\n",
       " 32.105874264873044,\n",
       " 18.279598706654486,\n",
       " 76.43565376371583]"
      ]
     },
     "execution_count": 6,
     "metadata": {},
     "output_type": "execute_result"
    }
   ],
   "source": [
    "test_data = generate_uniform(100,0,100)\n",
    "test_data"
   ]
  },
  {
   "cell_type": "code",
   "execution_count": 9,
   "id": "9767a5c7",
   "metadata": {},
   "outputs": [
    {
     "name": "stdout",
     "output_type": "stream",
     "text": [
      "99.94729198739431\n",
      "0.7262197915487767\n"
     ]
    }
   ],
   "source": [
    "print(max(test_data))\n",
    "print(min(test_data))\n",
    "# print(mean(test))\n"
   ]
  },
  {
   "cell_type": "code",
   "execution_count": 11,
   "id": "7b14a032",
   "metadata": {},
   "outputs": [
    {
     "data": {
      "text/plain": [
       "[0, 0, 0, 0, 0]"
      ]
     },
     "execution_count": 11,
     "metadata": {},
     "output_type": "execute_result"
    }
   ],
   "source": [
    "[0 for i in range(5)]"
   ]
  },
  {
   "cell_type": "code",
   "execution_count": 14,
   "id": "dd6a3fb7",
   "metadata": {},
   "outputs": [
    {
     "name": "stdout",
     "output_type": "stream",
     "text": [
      "[1, 2]\n",
      "[1, 2]\n"
     ]
    },
    {
     "data": {
      "text/plain": [
       "[1, 2]"
      ]
     },
     "execution_count": 14,
     "metadata": {},
     "output_type": "execute_result"
    }
   ],
   "source": [
    "testpair = [1,2]\n",
    "print(testpair)\n",
    "print([1,2])\n",
    "testpair"
   ]
  },
  {
   "cell_type": "code",
   "execution_count": 21,
   "id": "b07b24f7",
   "metadata": {},
   "outputs": [
    {
     "data": {
      "text/plain": [
       "False"
      ]
     },
     "execution_count": 21,
     "metadata": {},
     "output_type": "execute_result"
    }
   ],
   "source": [
    "11%2==0"
   ]
  },
  {
   "cell_type": "code",
   "execution_count": 40,
   "id": "41751553",
   "metadata": {},
   "outputs": [],
   "source": [
    "def where(mylist,myfunc,*args):\n",
    "    out= []\n",
    "    \n",
    "    for i in range(len(mylist)):\n",
    "        if myfunc(mylist[i],*args) == True:\n",
    "            out.append(i)\n",
    "    \n",
    "    return out"
   ]
  },
  {
   "cell_type": "code",
   "execution_count": 41,
   "id": "0698fb19",
   "metadata": {},
   "outputs": [],
   "source": [
    "def is_even(x):\n",
    "    def testeven(x):\n",
    "        return x%2 == 0\n",
    "    return testeven(x)\n",
    "\n",
    "def is_odd(x):\n",
    "    def testodd(x):\n",
    "        return x%2 != 0\n",
    "    return testodd(x)\n",
    "\n",
    "def is_greater_than(x,what):\n",
    "    return x > what"
   ]
  },
  {
   "cell_type": "code",
   "execution_count": 43,
   "id": "1f595701",
   "metadata": {},
   "outputs": [
    {
     "name": "stdout",
     "output_type": "stream",
     "text": [
      "[1, 3, 5, 7, 9] 5\n",
      "[0, 2, 4, 6, 8, 10] 6\n",
      "[6, 7, 8, 9, 10]\n"
     ]
    }
   ],
   "source": [
    "test_list=[-5,-4,-3,-2,-1,0,1,2,3,4,5]\n",
    "print(where(test_list,is_even),len(where(test_list,is_even)))\n",
    "print(where(test_list,is_odd), len(where(test_list,is_odd)))\n",
    "print(where(test_list,is_greater_than,0)) #, where(test_list,is_greater_than(x,what=0)))"
   ]
  },
  {
   "cell_type": "code",
   "execution_count": null,
   "id": "bf414555",
   "metadata": {},
   "outputs": [],
   "source": []
  }
 ],
 "metadata": {
  "kernelspec": {
   "display_name": "Python 3 (ipykernel)",
   "language": "python",
   "name": "python3"
  },
  "language_info": {
   "codemirror_mode": {
    "name": "ipython",
    "version": 3
   },
   "file_extension": ".py",
   "mimetype": "text/x-python",
   "name": "python",
   "nbconvert_exporter": "python",
   "pygments_lexer": "ipython3",
   "version": "3.10.4"
  }
 },
 "nbformat": 4,
 "nbformat_minor": 5
}
