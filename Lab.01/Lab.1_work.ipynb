{
 "cells": [
  {
   "cell_type": "code",
   "execution_count": 11,
   "id": "f0038798",
   "metadata": {},
   "outputs": [],
   "source": [
    "import numpy as np\n",
    "\n",
    "# Index assignment for the matrix representation of the game board\n",
    "player_1 = 1\n",
    "player_2 = 2\n",
    "empty = 0\n",
    "\n",
    "def create_matrix(size=3):\n",
    "    board = list()\n",
    "    #board = []\n",
    "    for i in range(size):\n",
    "        board.append([empty]*size)    \n",
    "\n",
    "        \n",
    "    '''\n",
    "    board = list()\n",
    "    \n",
    "    for i in range(size):\n",
    "        row = list()\n",
    "        \n",
    "        for j in range(size):\n",
    "            row.append(empty)\n",
    "    \n",
    "    board.append(row)\n",
    "    '''\n",
    "    #print(board)\n",
    "    return board\n"
   ]
  },
  {
   "cell_type": "code",
   "execution_count": 12,
   "id": "b50059e8",
   "metadata": {},
   "outputs": [
    {
     "data": {
      "text/plain": [
       "[[0, 0, 0, 0, 0],\n",
       " [0, 0, 0, 0, 0],\n",
       " [0, 0, 0, 0, 0],\n",
       " [0, 0, 0, 0, 0],\n",
       " [0, 0, 0, 0, 0]]"
      ]
     },
     "execution_count": 12,
     "metadata": {},
     "output_type": "execute_result"
    }
   ],
   "source": [
    "size = 5\n",
    "\n",
    "create_matrix(size)"
   ]
  },
  {
   "cell_type": "code",
   "execution_count": 13,
   "id": "f625566c",
   "metadata": {},
   "outputs": [
    {
     "data": {
      "text/plain": [
       "[[0, 0, 0, 0, 0, 0, 0, 0],\n",
       " [0, 0, 0, 0, 0, 0, 0, 0],\n",
       " [0, 0, 0, 0, 0, 0, 0, 0],\n",
       " [0, 0, 0, 0, 0, 0, 0, 0],\n",
       " [0, 0, 0, 0, 0, 0, 0, 0],\n",
       " [0, 0, 0, 0, 0, 0, 0, 0],\n",
       " [0, 0, 0, 0, 0, 0, 0, 0],\n",
       " [0, 0, 0, 0, 0, 0, 0, 0]]"
      ]
     },
     "execution_count": 13,
     "metadata": {},
     "output_type": "execute_result"
    }
   ],
   "source": [
    "# Index assignment for the matrix representation of the game board\n",
    "player_1 = 1\n",
    "player_2 = 2\n",
    "empty = 0\n",
    "\n",
    "# Game board size\n",
    "size = 8\n",
    "\n",
    "board=list()\n",
    "for i in range(size):\n",
    "    row=list()\n",
    "    for j in range(size):\n",
    "        row.append(empty)\n",
    "        \n",
    "    board.append(row)\n",
    "\n",
    "board"
   ]
  },
  {
   "cell_type": "code",
   "execution_count": 14,
   "id": "8c8273fe",
   "metadata": {},
   "outputs": [],
   "source": [
    "def make_mn_matrix(width=3,height=3):\n",
    "    board = [[empty]*width for i in range(height)]\n",
    "    \n",
    "    return board"
   ]
  },
  {
   "cell_type": "code",
   "execution_count": 15,
   "id": "e8d45501",
   "metadata": {},
   "outputs": [
    {
     "data": {
      "text/plain": [
       "[[0, 0, 0, 0],\n",
       " [0, 0, 0, 0],\n",
       " [0, 0, 0, 0],\n",
       " [0, 0, 0, 0],\n",
       " [0, 0, 0, 0],\n",
       " [0, 0, 0, 0],\n",
       " [0, 0, 0, 0]]"
      ]
     },
     "execution_count": 15,
     "metadata": {},
     "output_type": "execute_result"
    }
   ],
   "source": [
    "make_mn_matrix(4,7)"
   ]
  },
  {
   "cell_type": "code",
   "execution_count": 65,
   "id": "b1cf7e47",
   "metadata": {},
   "outputs": [],
   "source": [
    "# Representation of players & mt space in board list.\n",
    "p1 = 1  # Player 1 \n",
    "p2 = 2  # Player 2 \n",
    "mt = 0  # Empty space\n",
    "\n",
    "# Token pieces shown on drawn board\n",
    "p1_pc = \"X\"  # Player 1 piece\n",
    "p2_pc = \"O\"  # Player 2 piece\n",
    "mt_spc = \" \"  # Empty space -> No pc placed yet\n",
    "\n",
    "# Dictionary of representation to token pieces\n",
    "spc_char = {\n",
    "    p1: p1_pc,\n",
    "    p2: p2_pc,\n",
    "    mt: mt_spc\n",
    "}\n",
    "\n",
    "\n",
    "\n",
    "\n",
    "def draw_board_ish(m,n):\n",
    "    width = m\n",
    "    height = n    \n",
    "    \n",
    "    '''\n",
    "    m = width\n",
    "    n = height\n",
    "    '''\n",
    "    board = make_mn_matrix(m,n)\n",
    "    \n",
    "    row_names = \"ABCDEFGHIJKLMNOPQRSTUVWXYZ\"\n",
    "    row_map = dict(zip(range(n), row_names))\n",
    "\n",
    "    # Top edge\n",
    "    lid = []\n",
    "    for i in range(m):\n",
    "        lid.append('---')  # Build the top/bottom\n",
    "    print('', *lid)  \n",
    "    \n",
    "    # Board body\n",
    "    for i in range(0, height):  # Draw each row before moving to the next for the legth of the num of columns\n",
    "        sep_row = ['|']\n",
    "\n",
    "        for j in range(width):  #Build each row based on the corresponding row in board\n",
    "            sep_row.append(spc_char[board[i][j]])\n",
    "            sep_row.append('|')\n",
    "\n",
    "        #sep_row.insert(0, row_map[row]) # Insert the row name at front of row list\n",
    "\n",
    "        print( *sep_row)            \n",
    "        print('', *lid)  #print bottom line    \n",
    "\n",
    "    \n",
    "    #for i in range(len(board)):\n",
    "    #   print()\n",
    "    "
   ]
  },
  {
   "cell_type": "code",
   "execution_count": 66,
   "id": "342d9776",
   "metadata": {},
   "outputs": [
    {
     "name": "stdout",
     "output_type": "stream",
     "text": [
      " --- --- --- --- --- --- --- ---\n",
      "|   |   |   |   |   |   |   |   |\n",
      " --- --- --- --- --- --- --- ---\n",
      "|   |   |   |   |   |   |   |   |\n",
      " --- --- --- --- --- --- --- ---\n",
      "|   |   |   |   |   |   |   |   |\n",
      " --- --- --- --- --- --- --- ---\n",
      "|   |   |   |   |   |   |   |   |\n",
      " --- --- --- --- --- --- --- ---\n",
      "|   |   |   |   |   |   |   |   |\n",
      " --- --- --- --- --- --- --- ---\n",
      "|   |   |   |   |   |   |   |   |\n",
      " --- --- --- --- --- --- --- ---\n",
      "|   |   |   |   |   |   |   |   |\n",
      " --- --- --- --- --- --- --- ---\n"
     ]
    }
   ],
   "source": [
    "draw_board_ish(8,7)"
   ]
  },
  {
   "cell_type": "markdown",
   "id": "40250a8a",
   "metadata": {},
   "source": [
    "*Exercise 4:* Write a function that takes a `n` by `n` matrix representing a tic-tac-toe game, and returns -1, 0, 1, or 2 indicating the game is incomplete, the game is a draw, player 1 has won, or player 2 has one, respectively. Here are some example inputs you can use to test your code:"
   ]
  },
  {
   "cell_type": "code",
   "execution_count": 18,
   "id": "64271bf8",
   "metadata": {},
   "outputs": [],
   "source": []
  },
  {
   "cell_type": "code",
   "execution_count": 59,
   "id": "e9a23795",
   "metadata": {},
   "outputs": [],
   "source": [
    "'''\n",
    "check for row homogeneity\n",
    "    p1 and p2\n",
    "check for column homogeneity\n",
    "    p1 and p2\n",
    "check for diagonal homogeneity\n",
    "    p1 and p2\n",
    "check for anti-diagonal homogeneity\n",
    "    p1 and p2\n",
    "check if full \n",
    "    if full and no row/col/diag homogeneity\n",
    "        then draw\n",
    "if not full and no row/col/diag homogeneity\n",
    "    incomplete\n",
    "'''\n",
    "\n",
    "def chk_row_win():\n",
    "    for i in range(size):   # For each row\n",
    "        if board[i] == [p1]*size:   # if the row is all p1\n",
    "            return p1\n",
    "        elif board[i] == [p2]*size:   # if the row is all p2\n",
    "            return p2\n",
    "    return False   #State is false if no row winner\n",
    "\n",
    "def chk_col_win():\n",
    "    for i in range(size):  # each column extracted as list is [row[i] for row in board]\n",
    "        if [row[i] for row in board] == [p1]*size:  # if col is all p1\n",
    "            return p1\n",
    "        if [row[i] for row in board] == [p2]*size:  # if col is all p2\n",
    "            return p2\n",
    "    return False   #State is false if no col winner\n",
    "\n",
    "def chk_diag_win():\n",
    "    #build diag/anti-diag lists\n",
    "    diag = []\n",
    "    antidiag = []\n",
    "    for i in range(len(board)):\n",
    "        diag.append(board[i][i])\n",
    "        antidiag.append(board[i][len(board)-i-1])\n",
    "    #both_diags = [diag,antidiag]\n",
    "    #print(diag)\n",
    "    #print(antidiag)\n",
    "    \n",
    "    # chk if either list matches either player\n",
    "    if (diag == [p1]*size) or (antidiag == [p1]*size):\n",
    "        return p1\n",
    "    if (diag == [p2]*size) or (antidiag == [p2]*size):\n",
    "        return p2\n",
    "    return False   #State is false if no diag winner\n",
    "\n",
    "def chk_draw_incomplete():\n",
    "    mt_count = 0\n",
    "    #count the empty cells in each row\n",
    "    for i in range(size):\n",
    "        if board[i].count(0) > 0:\n",
    "            mt_count += 1\n",
    "    # if no empty cells, then draw\n",
    "    if mt_count == 0:\n",
    "        return print(mt,\"\\nCat's Game!\")\n",
    "    elif mt_count > 0:\n",
    "        return -1\n",
    "\n",
    "# Run thru chks\n",
    "def win_state():\n",
    "    row_win = chk_row_win()\n",
    "    col_win = chk_col_win()\n",
    "    diag_win = chk_diag_win()\n",
    "    if row_win:\n",
    "        return print(row_win,\"\\nPlayer\",row_win,\"wins!\")\n",
    "    elif col_win:\n",
    "        return print(col_win,\"\\nPlayer\",col_win,\"wins!\")\n",
    "    elif diag_win:\n",
    "        return print(diag_win,\"\\nPlayer\",diag_win,\"wins!\")\n",
    "    else:\n",
    "        return chk_draw_incomplete()\n",
    "    "
   ]
  },
  {
   "cell_type": "code",
   "execution_count": 60,
   "id": "218b3169",
   "metadata": {},
   "outputs": [
    {
     "name": "stdout",
     "output_type": "stream",
     "text": [
      "0 \n",
      "Cat's Game!\n"
     ]
    }
   ],
   "source": [
    "size = 3\n",
    "board = [[2,1,2],\n",
    "         [1,1,2],\n",
    "         [1,2,1]]\n",
    "#chk_row_win()\n",
    "#chk_col_win()\n",
    "#chk_diag_win()\n",
    "#board[1].count(0)\n",
    "#chk_draw()\n",
    "win_state()"
   ]
  },
  {
   "cell_type": "code",
   "execution_count": 6,
   "id": "13850ea6",
   "metadata": {},
   "outputs": [],
   "source": [
    "!jt -t chesterish -T -N "
   ]
  },
  {
   "cell_type": "code",
   "execution_count": 93,
   "id": "f3acf46c",
   "metadata": {},
   "outputs": [],
   "source": [
    "# Write you solution here\n",
    "# Write you solution here\n",
    "# Representation of players & mt space in board list.\n",
    "p1 = 1  # Player 1 \n",
    "p2 = 2  # Player 2 \n",
    "mt = 0  # Empty space\n",
    "\n",
    "# Token pieces shown on drawn board\n",
    "p1_pc = \"X\"  # Player 1 piece\n",
    "p2_pc = \"O\"  # Player 2 piece\n",
    "mt_spc = \" \"  # Empty space -> No pc placed yet\n",
    "\n",
    "# Dictionary of representation to token pieces\n",
    "spc_char = {\n",
    "    p1: p1_pc,\n",
    "    p2: p2_pc,\n",
    "    mt: mt_spc\n",
    "}\n",
    "'''\n",
    "def init_make_board(size=3):\n",
    "    board = [[mt]*size for i in range(size)]\n",
    "    \n",
    "    return board\n",
    "'''\n",
    "\n",
    "def draw_board(board):\n",
    "    '''\n",
    "    width = m\n",
    "    height = n\n",
    "    \n",
    "    m = width\n",
    "    n = height\n",
    "    '''\n",
    "    #board = make_board(size)\n",
    "    \n",
    "    #size = len(board)\n",
    "    \n",
    "    row_names = \"ABCDEFGHIJKLMNOPQRSTUVWXYZ\"\n",
    "    row_map = dict(zip(range(size), row_names))\n",
    "\n",
    "    # Top edge\n",
    "    lid = []\n",
    "    for i in range(size):\n",
    "        lid.append('---')  # Build the top/bottom\n",
    "    print('', *lid)  \n",
    "    \n",
    "    # Board body\n",
    "    for i in range(size):  # Draw each row before moving to the next for the legth of the num of columns\n",
    "        sep_row = ['|']\n",
    "\n",
    "        for j in range(size):  #Build each row based on the corresponding row in board\n",
    "            sep_row.append(spc_char[board[i][j]])\n",
    "            sep_row.append('|')\n",
    "\n",
    "        #sep_row.insert(0, row_map[row]) # Insert the row name at front of row list\n",
    "\n",
    "        print( *sep_row)            \n",
    "        print('', *lid)  #print bottom line    \n",
    "\n",
    "    \n",
    "    #for i in range(len(board)):\n",
    "    #   print()\n",
    "    "
   ]
  },
  {
   "cell_type": "code",
   "execution_count": 94,
   "id": "bf5d4264",
   "metadata": {},
   "outputs": [
    {
     "name": "stdout",
     "output_type": "stream",
     "text": [
      " --- --- ---\n"
     ]
    },
    {
     "ename": "TypeError",
     "evalue": "'int' object is not subscriptable",
     "output_type": "error",
     "traceback": [
      "\u001b[0;31m---------------------------------------------------------------------------\u001b[0m",
      "\u001b[0;31mTypeError\u001b[0m                                 Traceback (most recent call last)",
      "Cell \u001b[0;32mIn [94], line 29\u001b[0m\n\u001b[1;32m     23\u001b[0m \u001b[38;5;66;03m#board = winner_is_2\u001b[39;00m\n\u001b[1;32m     24\u001b[0m \u001b[38;5;66;03m#board = winner_is_1\u001b[39;00m\n\u001b[1;32m     25\u001b[0m \u001b[38;5;66;03m#board = winner_is_also_1\u001b[39;00m\n\u001b[1;32m     26\u001b[0m \u001b[38;5;66;03m#board = no_winner_incomplete\u001b[39;00m\n\u001b[1;32m     27\u001b[0m board \u001b[38;5;241m=\u001b[39m no_winner_draw\n\u001b[0;32m---> 29\u001b[0m \u001b[43mdraw_board\u001b[49m\u001b[43m(\u001b[49m\u001b[43msize\u001b[49m\u001b[43m)\u001b[49m\n",
      "Cell \u001b[0;32mIn [93], line 52\u001b[0m, in \u001b[0;36mdraw_board\u001b[0;34m(board)\u001b[0m\n\u001b[1;32m     49\u001b[0m sep_row \u001b[38;5;241m=\u001b[39m [\u001b[38;5;124m'\u001b[39m\u001b[38;5;124m|\u001b[39m\u001b[38;5;124m'\u001b[39m]\n\u001b[1;32m     51\u001b[0m \u001b[38;5;28;01mfor\u001b[39;00m j \u001b[38;5;129;01min\u001b[39;00m \u001b[38;5;28mrange\u001b[39m(size):  \u001b[38;5;66;03m#Build each row based on the corresponding row in board\u001b[39;00m\n\u001b[0;32m---> 52\u001b[0m     sep_row\u001b[38;5;241m.\u001b[39mappend(spc_char[\u001b[43mboard\u001b[49m\u001b[43m[\u001b[49m\u001b[43mi\u001b[49m\u001b[43m]\u001b[49m[j]])\n\u001b[1;32m     53\u001b[0m     sep_row\u001b[38;5;241m.\u001b[39mappend(\u001b[38;5;124m'\u001b[39m\u001b[38;5;124m|\u001b[39m\u001b[38;5;124m'\u001b[39m)\n\u001b[1;32m     55\u001b[0m \u001b[38;5;66;03m#sep_row.insert(0, row_map[row]) # Insert the row name at front of row list\u001b[39;00m\n",
      "\u001b[0;31mTypeError\u001b[0m: 'int' object is not subscriptable"
     ]
    }
   ],
   "source": [
    "winner_is_2 = [[2, 2, 0],\n",
    "               [2, 1, 0],\n",
    "               [2, 1, 1]]\n",
    "#board = winner_is_2\n",
    "\n",
    "winner_is_1 = [[1, 2, 0],\n",
    "               [2, 1, 0],\n",
    "               [2, 1, 1]]\n",
    "#board = winner_is_1\n",
    "\n",
    "winner_is_also_1 = [[0, 1, 0],\n",
    "                    [2, 1, 0],\n",
    "                    [2, 1, 1]]\n",
    "#board = winner_is_also_1\n",
    "\n",
    "no_winner_incomplete = [[1, 2, 0],\n",
    "                        [2, 1, 0],\n",
    "                        [2, 1, 2]]\n",
    "\n",
    "no_winner_draw = [[1, 2, 1],\n",
    "                  [2, 1, 2],\n",
    "                  [2, 1, 2]]\n",
    "#board = winner_is_2\n",
    "#board = winner_is_1\n",
    "#board = winner_is_also_1\n",
    "#board = no_winner_incomplete\n",
    "board = no_winner_draw\n",
    "\n",
    "draw_board(size)\n",
    "#win_state()\n",
    "#len(board)\n",
    "#type(size)"
   ]
  },
  {
   "cell_type": "code",
   "execution_count": 95,
   "id": "3d17f6ee",
   "metadata": {
    "scrolled": true
   },
   "outputs": [
    {
     "name": "stdout",
     "output_type": "stream",
     "text": [
      "[[1, 2, 1], [2, 1, 2], [2, 1, 2]]\n"
     ]
    }
   ],
   "source": [
    "type(board)\n",
    "print(board)"
   ]
  },
  {
   "cell_type": "code",
   "execution_count": null,
   "id": "4e3e707f",
   "metadata": {},
   "outputs": [],
   "source": [
    "def change_matrix(matrix, location, player):\n",
    "    print(matrix)\n",
    "    print(location)"
   ]
  },
  {
   "cell_type": "markdown",
   "id": "7acc6050",
   "metadata": {},
   "source": [
    "*Exercise 8:* Write a function is called with a board and player number, takes input from the player using python's `input`, and modifies the board using your function from exercise 7. Note that you should keep asking for input until you have gotten a valid input that results in a valid move."
   ]
  },
  {
   "cell_type": "code",
   "execution_count": 101,
   "id": "b1b2cbf8",
   "metadata": {},
   "outputs": [],
   "source": [
    "!jt -t solarizedl -T -N -cellw 1000"
   ]
  },
  {
   "cell_type": "code",
   "execution_count": null,
   "id": "eab1fe2f",
   "metadata": {},
   "outputs": [],
   "source": [
    "def get_move(board,player):\n",
    "    good_move = False\n",
    "    \n",
    "    while not good_move:\n",
    "        location_string = input(\"Where are you placing your piece? \")\n",
    "        if location_string==\"XX\":\n",
    "            good_move = \"end\"\n",
    "            return good_move\n",
    "        good_move = nice_make_move(board,player,location_string)"
   ]
  }
 ],
 "metadata": {
  "kernelspec": {
   "display_name": "Python 3 (ipykernel)",
   "language": "python",
   "name": "python3"
  },
  "language_info": {
   "codemirror_mode": {
    "name": "ipython",
    "version": 3
   },
   "file_extension": ".py",
   "mimetype": "text/x-python",
   "name": "python",
   "nbconvert_exporter": "python",
   "pygments_lexer": "ipython3",
   "version": "3.10.4"
  }
 },
 "nbformat": 4,
 "nbformat_minor": 5
}
