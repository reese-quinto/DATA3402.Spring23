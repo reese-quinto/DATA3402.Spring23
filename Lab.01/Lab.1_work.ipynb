{
 "cells": [
  {
   "cell_type": "code",
   "execution_count": 50,
   "id": "f0038798",
   "metadata": {},
   "outputs": [],
   "source": [
    "import numpy as np\n",
    "\n",
    "# Index assignment for the matrix representation of the game board\n",
    "player_1 = 1\n",
    "player_2 = 2\n",
    "empty = 0\n",
    "\n",
    "def create_matrix(size=3):\n",
    "    board = list()\n",
    "    #board = []\n",
    "    for i in range(size):\n",
    "        board.append([empty]*size)    \n",
    "\n",
    "        \n",
    "    '''\n",
    "    board = list()\n",
    "    \n",
    "    for i in range(size):\n",
    "        row = list()\n",
    "        \n",
    "        for j in range(size):\n",
    "            row.append(empty)\n",
    "    \n",
    "    board.append(row)\n",
    "    '''\n",
    "    #print(board)\n",
    "    return board\n"
   ]
  },
  {
   "cell_type": "code",
   "execution_count": 51,
   "id": "b50059e8",
   "metadata": {},
   "outputs": [
    {
     "data": {
      "text/plain": [
       "[[0, 0, 0, 0, 0],\n",
       " [0, 0, 0, 0, 0],\n",
       " [0, 0, 0, 0, 0],\n",
       " [0, 0, 0, 0, 0],\n",
       " [0, 0, 0, 0, 0]]"
      ]
     },
     "execution_count": 51,
     "metadata": {},
     "output_type": "execute_result"
    }
   ],
   "source": [
    "size = 5\n",
    "\n",
    "create_matrix(size)"
   ]
  },
  {
   "cell_type": "code",
   "execution_count": 9,
   "id": "f625566c",
   "metadata": {},
   "outputs": [
    {
     "data": {
      "text/plain": [
       "[[0, 0, 0, 0, 0, 0, 0, 0],\n",
       " [0, 0, 0, 0, 0, 0, 0, 0],\n",
       " [0, 0, 0, 0, 0, 0, 0, 0],\n",
       " [0, 0, 0, 0, 0, 0, 0, 0],\n",
       " [0, 0, 0, 0, 0, 0, 0, 0],\n",
       " [0, 0, 0, 0, 0, 0, 0, 0],\n",
       " [0, 0, 0, 0, 0, 0, 0, 0],\n",
       " [0, 0, 0, 0, 0, 0, 0, 0]]"
      ]
     },
     "execution_count": 9,
     "metadata": {},
     "output_type": "execute_result"
    }
   ],
   "source": [
    "# Index assignment for the matrix representation of the game board\n",
    "player_1 = 1\n",
    "player_2 = 2\n",
    "empty = 0\n",
    "\n",
    "# Game board size\n",
    "size = 8\n",
    "\n",
    "board=list()\n",
    "for i in range(size):\n",
    "    row=list()\n",
    "    for j in range(size):\n",
    "        row.append(empty)\n",
    "        \n",
    "    board.append(row)\n",
    "\n",
    "board"
   ]
  },
  {
   "cell_type": "code",
   "execution_count": 10,
   "id": "8c8273fe",
   "metadata": {},
   "outputs": [],
   "source": [
    "def make_mn_matrix(width=3,height=3):\n",
    "    board = [[empty]*width for i in range(height)]\n",
    "    \n",
    "    return board"
   ]
  },
  {
   "cell_type": "code",
   "execution_count": 12,
   "id": "e8d45501",
   "metadata": {},
   "outputs": [
    {
     "data": {
      "text/plain": [
       "[[0, 0, 0, 0],\n",
       " [0, 0, 0, 0],\n",
       " [0, 0, 0, 0],\n",
       " [0, 0, 0, 0],\n",
       " [0, 0, 0, 0],\n",
       " [0, 0, 0, 0],\n",
       " [0, 0, 0, 0]]"
      ]
     },
     "execution_count": 12,
     "metadata": {},
     "output_type": "execute_result"
    }
   ],
   "source": [
    "make_mn_matrix(4,7)"
   ]
  },
  {
   "cell_type": "code",
   "execution_count": 32,
   "id": "b1cf7e47",
   "metadata": {},
   "outputs": [],
   "source": [
    "# Representation of players & mt space in board list.\n",
    "p1 = 1  # Player 1 \n",
    "p2 = 2  # Player 2 \n",
    "mt = 0  # Empty space\n",
    "\n",
    "# Token pieces shown on drawn board\n",
    "p1_pc = \"X\"  # Player 1 piece\n",
    "p2_pc = \"O\"  # Player 2 piece\n",
    "mt_spc = \" \"  # Empty space -> No pc placed yet\n",
    "\n",
    "# Dictionary of representation to token pieces\n",
    "spc_char = {\n",
    "    p1: p1_pc,\n",
    "    p2: p2_pc,\n",
    "    mt: mt_spc\n",
    "}\n",
    "\n",
    "\n",
    "\n",
    "\n",
    "def draw_board(m,n):\n",
    "    width = m\n",
    "    height = n    \n",
    "    \n",
    "    '''\n",
    "    m = width\n",
    "    n = height\n",
    "    '''\n",
    "    board = make_mn_matrix(m,n)\n",
    "    \n",
    "    row_names = \"ABCDEFGHIJKLMNOPQRSTUVWXYZ\"\n",
    "    row_map = dict(zip(range(n), row_names))\n",
    "\n",
    "    # Top edge\n",
    "    lid = []\n",
    "    for i in range(m):\n",
    "        lid.append('---')  # Build the top/bottom\n",
    "    print('', *lid)  \n",
    "    \n",
    "    # Board body\n",
    "    for i in range(0, height):  # Draw each row before moving to the next for the legth of the num of columns\n",
    "        sep_row = ['|']\n",
    "\n",
    "        for j in range(width):  #Build each row based on the corresponding row in board\n",
    "            sep_row.append(spc_char[board[i][j]])\n",
    "            sep_row.append('|')\n",
    "\n",
    "        #sep_row.insert(0, row_map[row]) # Insert the row name at front of row list\n",
    "\n",
    "        print( *sep_row)            \n",
    "        print('', *lid)  #print bottom line    \n",
    "\n",
    "    \n",
    "    #for i in range(len(board)):\n",
    "    #   print()\n",
    "    "
   ]
  },
  {
   "cell_type": "code",
   "execution_count": 34,
   "id": "342d9776",
   "metadata": {},
   "outputs": [
    {
     "name": "stdout",
     "output_type": "stream",
     "text": [
      " --- --- --- --- --- --- --- ---\n",
      "|   |   |   |   |   |   |   |   |\n",
      " --- --- --- --- --- --- --- ---\n",
      "|   |   |   |   |   |   |   |   |\n",
      " --- --- --- --- --- --- --- ---\n",
      "|   |   |   |   |   |   |   |   |\n",
      " --- --- --- --- --- --- --- ---\n",
      "|   |   |   |   |   |   |   |   |\n",
      " --- --- --- --- --- --- --- ---\n",
      "|   |   |   |   |   |   |   |   |\n",
      " --- --- --- --- --- --- --- ---\n",
      "|   |   |   |   |   |   |   |   |\n",
      " --- --- --- --- --- --- --- ---\n",
      "|   |   |   |   |   |   |   |   |\n",
      " --- --- --- --- --- --- --- ---\n"
     ]
    }
   ],
   "source": [
    "draw_board(8,7)"
   ]
  },
  {
   "cell_type": "markdown",
   "id": "3a06fb1c",
   "metadata": {},
   "source": [
    "*Exercise 4:* Write a function that takes a `n` by `n` matrix representing a tic-tac-toe game, and returns -1, 0, 1, or 2 indicating the game is incomplete, the game is a draw, player 1 has won, or player 2 has one, respectively. Here are some example inputs you can use to test your code:"
   ]
  },
  {
   "cell_type": "code",
   "execution_count": 1,
   "id": "0e6cc74e",
   "metadata": {},
   "outputs": [],
   "source": [
    "winner_is_2 = [[2, 2, 0],\n",
    "               [2, 1, 0],\n",
    "               [2, 1, 1]]\n",
    "\n",
    "winner_is_1 = [[1, 2, 0],\n",
    "               [2, 1, 0],\n",
    "               [2, 1, 1]]\n",
    "\n",
    "winner_is_also_1 = [[0, 1, 0],\n",
    "                    [2, 1, 0],\n",
    "                    [2, 1, 1]]\n",
    "\n",
    "no_winner = [[1, 2, 0],\n",
    "             [2, 1, 0],\n",
    "             [2, 1, 2]]\n",
    "\n",
    "also_no_winner = [[1, 2, 0],\n",
    "                  [2, 1, 0],\n",
    "                  [2, 1, 0]]"
   ]
  },
  {
   "cell_type": "code",
   "execution_count": null,
   "id": "fbf9f201",
   "metadata": {},
   "outputs": [],
   "source": []
  }
 ],
 "metadata": {
  "kernelspec": {
   "display_name": "Python 3 (ipykernel)",
   "language": "python",
   "name": "python3"
  },
  "language_info": {
   "codemirror_mode": {
    "name": "ipython",
    "version": 3
   },
   "file_extension": ".py",
   "mimetype": "text/x-python",
   "name": "python",
   "nbconvert_exporter": "python",
   "pygments_lexer": "ipython3",
   "version": "3.10.4"
  }
 },
 "nbformat": 4,
 "nbformat_minor": 5
}
