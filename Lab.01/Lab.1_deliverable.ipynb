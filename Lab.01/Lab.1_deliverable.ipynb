{
 "cells": [
  {
   "cell_type": "markdown",
   "metadata": {},
   "source": [
    "# Lab 1- Tic Tac Toe\n",
    "\n",
    "In this lab your will build a n x n Tic Tac Toe game. As you do the exercises, make sure your solutions work for any size Tic Tac Toe game. "
   ]
  },
  {
   "cell_type": "markdown",
   "metadata": {},
   "source": [
    "*Exercise 1:* Write a function that creates an n by n matrix (of list of lists) which will represent the state of a Tie Tac Toe game. Let 0, 1, and 2 represent empty, \"X\", and \"O\", respectively.\n"
   ]
  },
  {
   "cell_type": "code",
   "execution_count": 1,
   "metadata": {},
   "outputs": [],
   "source": [
    "# Write you solution here\n",
    "player_1 = 1\n",
    "player_2 = 2\n",
    "empty = 0\n",
    "\n",
    "def create_matrix(size=3):\n",
    "    board = list()\n",
    "    for i in range(size):\n",
    "        board.append([empty]*size)    \n",
    "\n",
    "    return board\n"
   ]
  },
  {
   "cell_type": "code",
   "execution_count": 5,
   "metadata": {},
   "outputs": [
    {
     "data": {
      "text/plain": [
       "[[0, 0, 0, 0, 0],\n",
       " [0, 0, 0, 0, 0],\n",
       " [0, 0, 0, 0, 0],\n",
       " [0, 0, 0, 0, 0],\n",
       " [0, 0, 0, 0, 0]]"
      ]
     },
     "execution_count": 5,
     "metadata": {},
     "output_type": "execute_result"
    }
   ],
   "source": [
    "# Test your solution here\n",
    "size = 5\n",
    "create_matrix(size)"
   ]
  },
  {
   "cell_type": "markdown",
   "metadata": {},
   "source": [
    "*Exercise 2:* Write a function that takes 2 integers `n` and `m` as input and draws a `n` by `m` game board. For example the following is a 3x3 board:\n",
    "```\n",
    "   --- --- --- \n",
    "  |   |   |   | \n",
    "   --- --- ---  \n",
    "  |   |   |   | \n",
    "   --- --- ---  \n",
    "  |   |   |   | \n",
    "   --- --- --- \n",
    "   ```"
   ]
  },
  {
   "cell_type": "code",
   "execution_count": 13,
   "metadata": {},
   "outputs": [],
   "source": [
    "# Write you solution here\n",
    "# Representation of players & mt space in board list.\n",
    "p1 = 1  # Player 1 \n",
    "p2 = 2  # Player 2 \n",
    "mt = 0  # Empty space\n",
    "\n",
    "# Token pieces shown on drawn board\n",
    "p1_pc = \"X\"  # Player 1 piece\n",
    "p2_pc = \"O\"  # Player 2 piece\n",
    "mt_spc = \" \"  # Empty space -> No pc placed yet\n",
    "\n",
    "# Dictionary of representation to token pieces\n",
    "spc_char = {\n",
    "    p1: p1_pc,\n",
    "    p2: p2_pc,\n",
    "    mt: mt_spc\n",
    "}\n",
    "\n",
    "def make_mn_matrix(width=3,height=3):\n",
    "    board = [[mt]*width for i in range(height)]\n",
    "    \n",
    "    return board\n",
    "\n",
    "def draw_arbitrary_board(m,n):\n",
    "    width = m\n",
    "    height = n\n",
    "    \n",
    "    '''\n",
    "    m = width\n",
    "    n = height\n",
    "    '''\n",
    "    board = make_mn_matrix(m,n)\n",
    "    \n",
    "    row_names = \"ABCDEFGHIJKLMNOPQRSTUVWXYZ\"\n",
    "    row_map = dict(zip(range(n), row_names))\n",
    "\n",
    "    # Top edge\n",
    "    lid = []\n",
    "    for i in range(m):\n",
    "        lid.append('---')  # Build the top/bottom\n",
    "    print('', *lid)  \n",
    "    \n",
    "    # Board body\n",
    "    for i in range(0, height):  # Draw each row before moving to the next for the legth of the num of columns\n",
    "        sep_row = ['|']\n",
    "\n",
    "        for j in range(width):  #Build each row based on the corresponding row in board\n",
    "            sep_row.append(spc_char[board[i][j]])\n",
    "            sep_row.append('|')\n",
    "\n",
    "        #sep_row.insert(0, row_map[row]) # Insert the row name at front of row list\n",
    "\n",
    "        print( *sep_row)            \n",
    "        print('', *lid)  #print bottom line    \n",
    "\n",
    "    \n",
    "    #for i in range(len(board)):\n",
    "    #   print()\n",
    "    "
   ]
  },
  {
   "cell_type": "code",
   "execution_count": 14,
   "metadata": {},
   "outputs": [
    {
     "name": "stdout",
     "output_type": "stream",
     "text": [
      " --- --- --- --- --- --- ---\n",
      "|   |   |   |   |   |   |   |\n",
      " --- --- --- --- --- --- ---\n",
      "|   |   |   |   |   |   |   |\n",
      " --- --- --- --- --- --- ---\n",
      "|   |   |   |   |   |   |   |\n",
      " --- --- --- --- --- --- ---\n",
      "|   |   |   |   |   |   |   |\n",
      " --- --- --- --- --- --- ---\n"
     ]
    }
   ],
   "source": [
    "# Test your solution here\n",
    "m=7\n",
    "n=4\n",
    "draw_arbitrary_board(m,n)"
   ]
  },
  {
   "cell_type": "markdown",
   "metadata": {},
   "source": [
    "*Exercise 3:* Modify exercise 2, so that it takes a matrix of the form from exercise 1 and draws a tic-tac-tie board with \"X\"s and \"O\"s.  "
   ]
  },
  {
   "cell_type": "code",
   "execution_count": 20,
   "metadata": {},
   "outputs": [],
   "source": [
    "# Write you solution here\n",
    "# Write you solution here\n",
    "# Representation of players & mt space in board list.\n",
    "p1 = 1  # Player 1 \n",
    "p2 = 2  # Player 2 \n",
    "mt = 0  # Empty space\n",
    "\n",
    "# Token pieces shown on drawn board\n",
    "p1_pc = \"X\"  # Player 1 piece\n",
    "p2_pc = \"O\"  # Player 2 piece\n",
    "mt_spc = \" \"  # Empty space -> No pc placed yet\n",
    "\n",
    "# Dictionary of representation to token pieces\n",
    "spc_char = {\n",
    "    p1: p1_pc,\n",
    "    p2: p2_pc,\n",
    "    mt: mt_spc\n",
    "}\n",
    "\n",
    "def init_make_board(size=3):\n",
    "    board = [[mt]*size for i in range(size)]\n",
    "    \n",
    "    return board\n",
    "\n",
    "def draw_board(board):\n",
    "    '''\n",
    "    width = m\n",
    "    height = n\n",
    "    \n",
    "    m = width\n",
    "    n = height\n",
    "    '''\n",
    "    #board = make_board(size)\n",
    "    \n",
    "    size = len(board)\n",
    "    \n",
    "    row_names = \"ABCDEFGHIJKLMNOPQRSTUVWXYZ\"\n",
    "    row_map = dict(zip(range(size), row_names))\n",
    "\n",
    "    # Top edge\n",
    "    lid = []\n",
    "    for i in range(size):\n",
    "        lid.append('---')  # Build the top/bottom\n",
    "    print('', *lid)  \n",
    "    \n",
    "    # Board body\n",
    "    for i in range(0, size):  # Draw each row before moving to the next for the legth of the num of columns\n",
    "        sep_row = ['|']\n",
    "\n",
    "        for j in range(size):  #Build each row based on the corresponding row in board\n",
    "            sep_row.append(spc_char[board[i][j]])\n",
    "            sep_row.append('|')\n",
    "\n",
    "        #sep_row.insert(0, row_map[row]) # Insert the row name at front of row list\n",
    "\n",
    "        print( *sep_row)            \n",
    "        print('', *lid)  #print bottom line    \n",
    "\n",
    "    \n",
    "    #for i in range(len(board)):\n",
    "    #   print()\n",
    "    "
   ]
  },
  {
   "cell_type": "code",
   "execution_count": 21,
   "metadata": {},
   "outputs": [
    {
     "name": "stdout",
     "output_type": "stream",
     "text": [
      " --- --- ---\n",
      "|   | X | X |\n",
      " --- --- ---\n",
      "|   | X | O |\n",
      " --- --- ---\n",
      "| O | X |   |\n",
      " --- --- ---\n"
     ]
    }
   ],
   "source": [
    "# Test your solution here\n",
    "board = [[0,1,1],\n",
    "         [0,1,2],\n",
    "         [2,1,0]]\n",
    "draw_board(board)"
   ]
  },
  {
   "cell_type": "markdown",
   "metadata": {},
   "source": [
    "*Exercise 4:* Write a function that takes a `n` by `n` matrix representing a tic-tac-toe game, and returns -1, 0, 1, or 2 indicating the game is incomplete, the game is a draw, player 1 has won, or player 2 has one, respectively. Here are some example inputs you can use to test your code:"
   ]
  },
  {
   "cell_type": "code",
   "execution_count": null,
   "metadata": {
    "collapsed": true
   },
   "outputs": [],
   "source": [
    "# Write you solution here"
   ]
  },
  {
   "cell_type": "code",
   "execution_count": null,
   "metadata": {
    "collapsed": true
   },
   "outputs": [],
   "source": [
    "# Test your solution here"
   ]
  },
  {
   "cell_type": "code",
   "execution_count": null,
   "metadata": {
    "collapsed": true
   },
   "outputs": [],
   "source": [
    "winner_is_2 = [[2, 2, 0],\n",
    "\t[2, 1, 0],\n",
    "\t[2, 1, 1]]\n",
    "\n",
    "winner_is_1 = [[1, 2, 0],\n",
    "\t[2, 1, 0],\n",
    "\t[2, 1, 1]]\n",
    "\n",
    "winner_is_also_1 = [[0, 1, 0],\n",
    "\t[2, 1, 0],\n",
    "\t[2, 1, 1]]\n",
    "\n",
    "no_winner = [[1, 2, 0],\n",
    "\t[2, 1, 0],\n",
    "\t[2, 1, 2]]\n",
    "\n",
    "also_no_winner = [[1, 2, 0],\n",
    "\t[2, 1, 0],\n",
    "\t[2, 1, 0]]"
   ]
  },
  {
   "cell_type": "markdown",
   "metadata": {},
   "source": [
    "*Exercise 5:* Write a function that takes a game board, player number, and `(x,y)` coordinates and places \"X\" or \"O\" in the correct location of the game board. Make sure that you only allow filling previously empty locations. Return `True` or `False` to indicate successful placement of \"X\" or \"O\"."
   ]
  },
  {
   "cell_type": "code",
   "execution_count": null,
   "metadata": {
    "collapsed": true
   },
   "outputs": [],
   "source": [
    "# Write you solution here"
   ]
  },
  {
   "cell_type": "code",
   "execution_count": null,
   "metadata": {
    "collapsed": true
   },
   "outputs": [],
   "source": [
    "# Test your solution here"
   ]
  },
  {
   "cell_type": "markdown",
   "metadata": {},
   "source": [
    "*Exercise 6:* Modify Exercise 4 to show column and row labels so that players can specify location using \"A2\" or \"C1\"."
   ]
  },
  {
   "cell_type": "code",
   "execution_count": null,
   "metadata": {
    "collapsed": true
   },
   "outputs": [],
   "source": [
    "# Write you solution here"
   ]
  },
  {
   "cell_type": "code",
   "execution_count": null,
   "metadata": {
    "collapsed": true
   },
   "outputs": [],
   "source": [
    "# Test your solution here"
   ]
  },
  {
   "cell_type": "markdown",
   "metadata": {},
   "source": [
    "*Exercise 7:* Write a function that takes a board, player number, and location specified as in exercise 6 and then calls exercise 5 to correctly modify the board.  "
   ]
  },
  {
   "cell_type": "code",
   "execution_count": null,
   "metadata": {
    "collapsed": true
   },
   "outputs": [],
   "source": [
    "# Write you solution here"
   ]
  },
  {
   "cell_type": "code",
   "execution_count": null,
   "metadata": {
    "collapsed": true
   },
   "outputs": [],
   "source": [
    "# Test your solution here"
   ]
  },
  {
   "cell_type": "markdown",
   "metadata": {},
   "source": [
    "*Exercise 8:* Write a function is called with a board and player number, takes input from the player using python's `input`, and modifies the board using your function from exercise 7. Note that you should keep asking for input until you have gotten a valid input that results in a valid move."
   ]
  },
  {
   "cell_type": "code",
   "execution_count": null,
   "metadata": {
    "collapsed": true
   },
   "outputs": [],
   "source": [
    "# Write you solution here"
   ]
  },
  {
   "cell_type": "code",
   "execution_count": null,
   "metadata": {
    "collapsed": true
   },
   "outputs": [],
   "source": [
    "# Test your solution here"
   ]
  },
  {
   "cell_type": "markdown",
   "metadata": {},
   "source": [
    "*Exercise 9:* Use all of the previous exercises to implement a full tic-tac-toe game, where an appropriate board is drawn, 2 players are repeatedly asked for a location coordinates of where they wish to place a mark, and the game status is checked until a player wins or a draw occurs."
   ]
  },
  {
   "cell_type": "code",
   "execution_count": null,
   "metadata": {
    "collapsed": true
   },
   "outputs": [],
   "source": [
    "# Write you solution here"
   ]
  },
  {
   "cell_type": "code",
   "execution_count": null,
   "metadata": {
    "collapsed": true
   },
   "outputs": [],
   "source": [
    "# Test your solution here"
   ]
  },
  {
   "cell_type": "markdown",
   "metadata": {},
   "source": [
    "*Exercise 10:* Test that your game works for 5x5 Tic Tac Toe.  "
   ]
  },
  {
   "cell_type": "code",
   "execution_count": null,
   "metadata": {
    "collapsed": true
   },
   "outputs": [],
   "source": [
    "# Test your solution here"
   ]
  },
  {
   "cell_type": "markdown",
   "metadata": {},
   "source": [
    "*Exercise 11:* (Advanced / Challenge) Develop a version of the game where one player is the computer. Note that you don't need to do an extensive seach for the best move. You can have the computer simply protect against loosing and otherwise try to win with straight or diagonal patterns."
   ]
  },
  {
   "cell_type": "code",
   "execution_count": null,
   "metadata": {
    "collapsed": true
   },
   "outputs": [],
   "source": [
    "# Write you solution here"
   ]
  },
  {
   "cell_type": "code",
   "execution_count": null,
   "metadata": {
    "collapsed": true
   },
   "outputs": [],
   "source": [
    "# Test your solution here"
   ]
  }
 ],
 "metadata": {
  "kernelspec": {
   "display_name": "Python 3 (ipykernel)",
   "language": "python",
   "name": "python3"
  },
  "language_info": {
   "codemirror_mode": {
    "name": "ipython",
    "version": 3
   },
   "file_extension": ".py",
   "mimetype": "text/x-python",
   "name": "python",
   "nbconvert_exporter": "python",
   "pygments_lexer": "ipython3",
   "version": "3.10.4"
  }
 },
 "nbformat": 4,
 "nbformat_minor": 2
}
